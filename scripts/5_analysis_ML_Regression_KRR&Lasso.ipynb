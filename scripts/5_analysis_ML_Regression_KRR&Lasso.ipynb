{
 "cells": [
  {
   "cell_type": "code",
   "execution_count": null,
   "metadata": {},
   "outputs": [],
   "source": [
    "#print all output\n",
    "pd.options.display.max_seq_items = 2000"
   ]
  },
  {
   "cell_type": "code",
   "execution_count": 1,
   "metadata": {},
   "outputs": [],
   "source": [
    "import numpy as np\n",
    "import pandas as pd\n",
    "import matplotlib\n",
    "%matplotlib inline\n",
    "from matplotlib import pyplot as plt\n",
    "from mpl_toolkits.mplot3d import Axes3D\n",
    "from scipy.stats import variation\n",
    "from matplotlib.ticker import MaxNLocator\n",
    "\n",
    "from sklearn.kernel_ridge import KernelRidge\n",
    "from sklearn.linear_model import LinearRegression\n",
    "from sklearn.svm import SVR\n",
    "from sklearn.linear_model import LassoCV,Lasso,Ridge\n",
    "from sklearn.model_selection import train_test_split\n",
    "from sklearn.model_selection import KFold\n",
    "\n",
    "\n",
    "import os\n",
    "import psutil\n",
    "import json\n",
    "from termcolor import colored\n",
    "import seaborn as sns\n",
    "from tqdm import tqdm\n",
    "import timeit\n",
    "import time\n",
    "# import pickle\n",
    "import joblib\n",
    "\n",
    "from scipy.stats import pearsonr\n",
    "from sklearn.decomposition import PCA\n",
    "from sklearn.model_selection import GridSearchCV\n",
    "from sklearn.model_selection import cross_val_score  \n",
    "from sklearn.pipeline import Pipeline\n",
    "from sklearn.preprocessing import MinMaxScaler,StandardScaler,Normalizer\n",
    "\n",
    "\n",
    "from sklearn.feature_selection import SelectKBest\n",
    "from sklearn.feature_selection import f_regression,mutual_info_regression\n",
    "from statsmodels.distributions.empirical_distribution import ECDF\n",
    "\n",
    "#Evaluation\n",
    "from sklearn.metrics import explained_variance_score\n",
    "from sklearn.metrics import mean_absolute_error\n",
    "from sklearn.metrics import mean_squared_error\n",
    "from sklearn.metrics import mean_squared_log_error\n",
    "from sklearn.metrics import median_absolute_error\n",
    "from sklearn.metrics import r2_score\n",
    "from sklearn.metrics import make_scorer\n",
    "\n",
    "import warnings\n",
    "warnings.filterwarnings(action=\"ignore\", module=\"scipy\", message=\"^internal gelsd\")\n",
    "warnings.filterwarnings('ignore', 'Objective did not converge.*')\n",
    "\n",
    "#Avoiding Type 3 fonts in matplotlib plots\n",
    "matplotlib.rcParams['pdf.fonttype'] = 42\n",
    "matplotlib.rcParams['ps.fonttype'] = 42"
   ]
  },
  {
   "cell_type": "code",
   "execution_count": 2,
   "metadata": {},
   "outputs": [],
   "source": [
    "font = {'size'   : 40}\n",
    "\n",
    "matplotlib.rc('font', **font)\n",
    "matplotlib.rc('lines', linewidth=3.0)\n",
    "matplotlib.rc('lines', markersize=10)"
   ]
  },
  {
   "cell_type": "code",
   "execution_count": 106,
   "metadata": {},
   "outputs": [
    {
     "name": "stdout",
     "output_type": "stream",
     "text": [
      "(13952, 96)\n"
     ]
    },
    {
     "data": {
      "text/html": [
       "<div>\n",
       "<style scoped>\n",
       "    .dataframe tbody tr th:only-of-type {\n",
       "        vertical-align: middle;\n",
       "    }\n",
       "\n",
       "    .dataframe tbody tr th {\n",
       "        vertical-align: top;\n",
       "    }\n",
       "\n",
       "    .dataframe thead th {\n",
       "        text-align: right;\n",
       "    }\n",
       "</style>\n",
       "<table border=\"1\" class=\"dataframe\">\n",
       "  <thead>\n",
       "    <tr style=\"text-align: right;\">\n",
       "      <th></th>\n",
       "      <th>average_Downlink CQI</th>\n",
       "      <th>average_Uplink CQI</th>\n",
       "      <th>average_Measured RTT</th>\n",
       "      <th>average_UE Throughput UL</th>\n",
       "      <th>average_eNB Throughput UL</th>\n",
       "      <th>average_UE Throughput DL</th>\n",
       "      <th>average_Smoothed RTT</th>\n",
       "      <th>average_eNB Throughput DL</th>\n",
       "      <th>min_Downlink CQI</th>\n",
       "      <th>min_Uplink CQI</th>\n",
       "      <th>...</th>\n",
       "      <th>skew_Smoothed RTT</th>\n",
       "      <th>skew_eNB Throughput DL</th>\n",
       "      <th>sem_Downlink CQI</th>\n",
       "      <th>sem_Uplink CQI</th>\n",
       "      <th>sem_Measured RTT</th>\n",
       "      <th>sem_UE Throughput UL</th>\n",
       "      <th>sem_eNB Throughput UL</th>\n",
       "      <th>sem_UE Throughput DL</th>\n",
       "      <th>sem_Smoothed RTT</th>\n",
       "      <th>sem_eNB Throughput DL</th>\n",
       "    </tr>\n",
       "  </thead>\n",
       "  <tbody>\n",
       "    <tr>\n",
       "      <th>swimMovementFP_ds0_nm_160_cli0_vec</th>\n",
       "      <td>15.0</td>\n",
       "      <td>13.0</td>\n",
       "      <td>0.127928</td>\n",
       "      <td>0.015651</td>\n",
       "      <td>2.353467</td>\n",
       "      <td>0.636493</td>\n",
       "      <td>120.092819</td>\n",
       "      <td>47.201458</td>\n",
       "      <td>15.0</td>\n",
       "      <td>13.0</td>\n",
       "      <td>...</td>\n",
       "      <td>1.886137</td>\n",
       "      <td>-1.354610</td>\n",
       "      <td>0.0</td>\n",
       "      <td>0.0</td>\n",
       "      <td>0.051180</td>\n",
       "      <td>0.001501</td>\n",
       "      <td>0.017891</td>\n",
       "      <td>0.061428</td>\n",
       "      <td>14.698971</td>\n",
       "      <td>0.363510</td>\n",
       "    </tr>\n",
       "    <tr>\n",
       "      <th>swimMovementFP_ds0_nm_160_cli101_vec</th>\n",
       "      <td>15.0</td>\n",
       "      <td>4.0</td>\n",
       "      <td>0.026862</td>\n",
       "      <td>0.005493</td>\n",
       "      <td>2.353467</td>\n",
       "      <td>0.197729</td>\n",
       "      <td>20.617754</td>\n",
       "      <td>47.201458</td>\n",
       "      <td>15.0</td>\n",
       "      <td>4.0</td>\n",
       "      <td>...</td>\n",
       "      <td>-0.608048</td>\n",
       "      <td>-1.354610</td>\n",
       "      <td>0.0</td>\n",
       "      <td>0.0</td>\n",
       "      <td>0.003380</td>\n",
       "      <td>0.000454</td>\n",
       "      <td>0.017891</td>\n",
       "      <td>0.016517</td>\n",
       "      <td>1.657770</td>\n",
       "      <td>0.363510</td>\n",
       "    </tr>\n",
       "    <tr>\n",
       "      <th>swimMovementFP_ds0_nm_160_cli102_vec</th>\n",
       "      <td>15.0</td>\n",
       "      <td>6.0</td>\n",
       "      <td>0.029088</td>\n",
       "      <td>0.006067</td>\n",
       "      <td>2.353467</td>\n",
       "      <td>0.218561</td>\n",
       "      <td>23.269429</td>\n",
       "      <td>47.201458</td>\n",
       "      <td>15.0</td>\n",
       "      <td>6.0</td>\n",
       "      <td>...</td>\n",
       "      <td>-1.187334</td>\n",
       "      <td>-1.354610</td>\n",
       "      <td>0.0</td>\n",
       "      <td>0.0</td>\n",
       "      <td>0.002831</td>\n",
       "      <td>0.000564</td>\n",
       "      <td>0.017891</td>\n",
       "      <td>0.020604</td>\n",
       "      <td>1.315702</td>\n",
       "      <td>0.363510</td>\n",
       "    </tr>\n",
       "    <tr>\n",
       "      <th>swimMovementFP_ds0_nm_160_cli104_vec</th>\n",
       "      <td>15.0</td>\n",
       "      <td>11.0</td>\n",
       "      <td>0.045309</td>\n",
       "      <td>0.026277</td>\n",
       "      <td>2.353467</td>\n",
       "      <td>1.218006</td>\n",
       "      <td>41.462836</td>\n",
       "      <td>47.201458</td>\n",
       "      <td>15.0</td>\n",
       "      <td>11.0</td>\n",
       "      <td>...</td>\n",
       "      <td>1.872888</td>\n",
       "      <td>-1.354610</td>\n",
       "      <td>0.0</td>\n",
       "      <td>0.0</td>\n",
       "      <td>0.015284</td>\n",
       "      <td>0.002402</td>\n",
       "      <td>0.017891</td>\n",
       "      <td>0.109406</td>\n",
       "      <td>3.350247</td>\n",
       "      <td>0.363510</td>\n",
       "    </tr>\n",
       "    <tr>\n",
       "      <th>swimMovementFP_ds0_nm_160_cli105_vec</th>\n",
       "      <td>15.0</td>\n",
       "      <td>15.0</td>\n",
       "      <td>0.083095</td>\n",
       "      <td>0.019411</td>\n",
       "      <td>2.353467</td>\n",
       "      <td>0.920070</td>\n",
       "      <td>79.681602</td>\n",
       "      <td>47.201458</td>\n",
       "      <td>15.0</td>\n",
       "      <td>15.0</td>\n",
       "      <td>...</td>\n",
       "      <td>2.166904</td>\n",
       "      <td>-1.354610</td>\n",
       "      <td>0.0</td>\n",
       "      <td>0.0</td>\n",
       "      <td>0.042576</td>\n",
       "      <td>0.001722</td>\n",
       "      <td>0.017891</td>\n",
       "      <td>0.079896</td>\n",
       "      <td>9.326708</td>\n",
       "      <td>0.363510</td>\n",
       "    </tr>\n",
       "    <tr>\n",
       "      <th>...</th>\n",
       "      <td>...</td>\n",
       "      <td>...</td>\n",
       "      <td>...</td>\n",
       "      <td>...</td>\n",
       "      <td>...</td>\n",
       "      <td>...</td>\n",
       "      <td>...</td>\n",
       "      <td>...</td>\n",
       "      <td>...</td>\n",
       "      <td>...</td>\n",
       "      <td>...</td>\n",
       "      <td>...</td>\n",
       "      <td>...</td>\n",
       "      <td>...</td>\n",
       "      <td>...</td>\n",
       "      <td>...</td>\n",
       "      <td>...</td>\n",
       "      <td>...</td>\n",
       "      <td>...</td>\n",
       "      <td>...</td>\n",
       "      <td>...</td>\n",
       "    </tr>\n",
       "    <tr>\n",
       "      <th>swimMovementFP_ds9_nm_80_cli76_vec</th>\n",
       "      <td>15.0</td>\n",
       "      <td>15.0</td>\n",
       "      <td>0.096685</td>\n",
       "      <td>0.031779</td>\n",
       "      <td>1.800826</td>\n",
       "      <td>1.541809</td>\n",
       "      <td>84.132245</td>\n",
       "      <td>36.293424</td>\n",
       "      <td>15.0</td>\n",
       "      <td>15.0</td>\n",
       "      <td>...</td>\n",
       "      <td>1.933486</td>\n",
       "      <td>-0.325786</td>\n",
       "      <td>0.0</td>\n",
       "      <td>0.0</td>\n",
       "      <td>0.045301</td>\n",
       "      <td>0.003353</td>\n",
       "      <td>0.019678</td>\n",
       "      <td>0.159657</td>\n",
       "      <td>9.738605</td>\n",
       "      <td>0.402736</td>\n",
       "    </tr>\n",
       "    <tr>\n",
       "      <th>swimMovementFP_ds9_nm_80_cli77_vec</th>\n",
       "      <td>15.0</td>\n",
       "      <td>7.0</td>\n",
       "      <td>0.039028</td>\n",
       "      <td>0.016946</td>\n",
       "      <td>1.800826</td>\n",
       "      <td>0.781816</td>\n",
       "      <td>36.483449</td>\n",
       "      <td>36.293424</td>\n",
       "      <td>15.0</td>\n",
       "      <td>7.0</td>\n",
       "      <td>...</td>\n",
       "      <td>2.165498</td>\n",
       "      <td>-0.325786</td>\n",
       "      <td>0.0</td>\n",
       "      <td>0.0</td>\n",
       "      <td>0.014125</td>\n",
       "      <td>0.001669</td>\n",
       "      <td>0.019678</td>\n",
       "      <td>0.076159</td>\n",
       "      <td>2.983669</td>\n",
       "      <td>0.402736</td>\n",
       "    </tr>\n",
       "    <tr>\n",
       "      <th>swimMovementFP_ds9_nm_80_cli78_vec</th>\n",
       "      <td>15.0</td>\n",
       "      <td>15.0</td>\n",
       "      <td>0.193722</td>\n",
       "      <td>0.030866</td>\n",
       "      <td>1.800826</td>\n",
       "      <td>1.502565</td>\n",
       "      <td>190.649952</td>\n",
       "      <td>36.293424</td>\n",
       "      <td>15.0</td>\n",
       "      <td>15.0</td>\n",
       "      <td>...</td>\n",
       "      <td>0.875950</td>\n",
       "      <td>-0.325786</td>\n",
       "      <td>0.0</td>\n",
       "      <td>0.0</td>\n",
       "      <td>0.066195</td>\n",
       "      <td>0.002922</td>\n",
       "      <td>0.019678</td>\n",
       "      <td>0.138687</td>\n",
       "      <td>17.450348</td>\n",
       "      <td>0.402736</td>\n",
       "    </tr>\n",
       "    <tr>\n",
       "      <th>swimMovementFP_ds9_nm_80_cli79_vec</th>\n",
       "      <td>15.0</td>\n",
       "      <td>6.0</td>\n",
       "      <td>0.131889</td>\n",
       "      <td>0.002301</td>\n",
       "      <td>1.800826</td>\n",
       "      <td>0.082752</td>\n",
       "      <td>23.297763</td>\n",
       "      <td>36.293424</td>\n",
       "      <td>15.0</td>\n",
       "      <td>6.0</td>\n",
       "      <td>...</td>\n",
       "      <td>2.958265</td>\n",
       "      <td>-0.325786</td>\n",
       "      <td>0.0</td>\n",
       "      <td>0.0</td>\n",
       "      <td>0.111016</td>\n",
       "      <td>0.000369</td>\n",
       "      <td>0.019678</td>\n",
       "      <td>0.013509</td>\n",
       "      <td>14.592524</td>\n",
       "      <td>0.402736</td>\n",
       "    </tr>\n",
       "    <tr>\n",
       "      <th>swimMovementFP_ds9_nm_80_cli8_vec</th>\n",
       "      <td>15.0</td>\n",
       "      <td>15.0</td>\n",
       "      <td>0.072721</td>\n",
       "      <td>0.026784</td>\n",
       "      <td>1.800826</td>\n",
       "      <td>0.978633</td>\n",
       "      <td>65.155481</td>\n",
       "      <td>36.293424</td>\n",
       "      <td>15.0</td>\n",
       "      <td>15.0</td>\n",
       "      <td>...</td>\n",
       "      <td>0.934623</td>\n",
       "      <td>-0.325786</td>\n",
       "      <td>0.0</td>\n",
       "      <td>0.0</td>\n",
       "      <td>0.025039</td>\n",
       "      <td>0.002619</td>\n",
       "      <td>0.019678</td>\n",
       "      <td>0.097108</td>\n",
       "      <td>5.608275</td>\n",
       "      <td>0.402736</td>\n",
       "    </tr>\n",
       "  </tbody>\n",
       "</table>\n",
       "<p>13952 rows × 96 columns</p>\n",
       "</div>"
      ],
      "text/plain": [
       "                                      average_Downlink CQI  \\\n",
       "swimMovementFP_ds0_nm_160_cli0_vec                    15.0   \n",
       "swimMovementFP_ds0_nm_160_cli101_vec                  15.0   \n",
       "swimMovementFP_ds0_nm_160_cli102_vec                  15.0   \n",
       "swimMovementFP_ds0_nm_160_cli104_vec                  15.0   \n",
       "swimMovementFP_ds0_nm_160_cli105_vec                  15.0   \n",
       "...                                                    ...   \n",
       "swimMovementFP_ds9_nm_80_cli76_vec                    15.0   \n",
       "swimMovementFP_ds9_nm_80_cli77_vec                    15.0   \n",
       "swimMovementFP_ds9_nm_80_cli78_vec                    15.0   \n",
       "swimMovementFP_ds9_nm_80_cli79_vec                    15.0   \n",
       "swimMovementFP_ds9_nm_80_cli8_vec                     15.0   \n",
       "\n",
       "                                      average_Uplink CQI  \\\n",
       "swimMovementFP_ds0_nm_160_cli0_vec                  13.0   \n",
       "swimMovementFP_ds0_nm_160_cli101_vec                 4.0   \n",
       "swimMovementFP_ds0_nm_160_cli102_vec                 6.0   \n",
       "swimMovementFP_ds0_nm_160_cli104_vec                11.0   \n",
       "swimMovementFP_ds0_nm_160_cli105_vec                15.0   \n",
       "...                                                  ...   \n",
       "swimMovementFP_ds9_nm_80_cli76_vec                  15.0   \n",
       "swimMovementFP_ds9_nm_80_cli77_vec                   7.0   \n",
       "swimMovementFP_ds9_nm_80_cli78_vec                  15.0   \n",
       "swimMovementFP_ds9_nm_80_cli79_vec                   6.0   \n",
       "swimMovementFP_ds9_nm_80_cli8_vec                   15.0   \n",
       "\n",
       "                                      average_Measured RTT  \\\n",
       "swimMovementFP_ds0_nm_160_cli0_vec                0.127928   \n",
       "swimMovementFP_ds0_nm_160_cli101_vec              0.026862   \n",
       "swimMovementFP_ds0_nm_160_cli102_vec              0.029088   \n",
       "swimMovementFP_ds0_nm_160_cli104_vec              0.045309   \n",
       "swimMovementFP_ds0_nm_160_cli105_vec              0.083095   \n",
       "...                                                    ...   \n",
       "swimMovementFP_ds9_nm_80_cli76_vec                0.096685   \n",
       "swimMovementFP_ds9_nm_80_cli77_vec                0.039028   \n",
       "swimMovementFP_ds9_nm_80_cli78_vec                0.193722   \n",
       "swimMovementFP_ds9_nm_80_cli79_vec                0.131889   \n",
       "swimMovementFP_ds9_nm_80_cli8_vec                 0.072721   \n",
       "\n",
       "                                      average_UE Throughput UL  \\\n",
       "swimMovementFP_ds0_nm_160_cli0_vec                    0.015651   \n",
       "swimMovementFP_ds0_nm_160_cli101_vec                  0.005493   \n",
       "swimMovementFP_ds0_nm_160_cli102_vec                  0.006067   \n",
       "swimMovementFP_ds0_nm_160_cli104_vec                  0.026277   \n",
       "swimMovementFP_ds0_nm_160_cli105_vec                  0.019411   \n",
       "...                                                        ...   \n",
       "swimMovementFP_ds9_nm_80_cli76_vec                    0.031779   \n",
       "swimMovementFP_ds9_nm_80_cli77_vec                    0.016946   \n",
       "swimMovementFP_ds9_nm_80_cli78_vec                    0.030866   \n",
       "swimMovementFP_ds9_nm_80_cli79_vec                    0.002301   \n",
       "swimMovementFP_ds9_nm_80_cli8_vec                     0.026784   \n",
       "\n",
       "                                      average_eNB Throughput UL  \\\n",
       "swimMovementFP_ds0_nm_160_cli0_vec                     2.353467   \n",
       "swimMovementFP_ds0_nm_160_cli101_vec                   2.353467   \n",
       "swimMovementFP_ds0_nm_160_cli102_vec                   2.353467   \n",
       "swimMovementFP_ds0_nm_160_cli104_vec                   2.353467   \n",
       "swimMovementFP_ds0_nm_160_cli105_vec                   2.353467   \n",
       "...                                                         ...   \n",
       "swimMovementFP_ds9_nm_80_cli76_vec                     1.800826   \n",
       "swimMovementFP_ds9_nm_80_cli77_vec                     1.800826   \n",
       "swimMovementFP_ds9_nm_80_cli78_vec                     1.800826   \n",
       "swimMovementFP_ds9_nm_80_cli79_vec                     1.800826   \n",
       "swimMovementFP_ds9_nm_80_cli8_vec                      1.800826   \n",
       "\n",
       "                                      average_UE Throughput DL  \\\n",
       "swimMovementFP_ds0_nm_160_cli0_vec                    0.636493   \n",
       "swimMovementFP_ds0_nm_160_cli101_vec                  0.197729   \n",
       "swimMovementFP_ds0_nm_160_cli102_vec                  0.218561   \n",
       "swimMovementFP_ds0_nm_160_cli104_vec                  1.218006   \n",
       "swimMovementFP_ds0_nm_160_cli105_vec                  0.920070   \n",
       "...                                                        ...   \n",
       "swimMovementFP_ds9_nm_80_cli76_vec                    1.541809   \n",
       "swimMovementFP_ds9_nm_80_cli77_vec                    0.781816   \n",
       "swimMovementFP_ds9_nm_80_cli78_vec                    1.502565   \n",
       "swimMovementFP_ds9_nm_80_cli79_vec                    0.082752   \n",
       "swimMovementFP_ds9_nm_80_cli8_vec                     0.978633   \n",
       "\n",
       "                                      average_Smoothed RTT  \\\n",
       "swimMovementFP_ds0_nm_160_cli0_vec              120.092819   \n",
       "swimMovementFP_ds0_nm_160_cli101_vec             20.617754   \n",
       "swimMovementFP_ds0_nm_160_cli102_vec             23.269429   \n",
       "swimMovementFP_ds0_nm_160_cli104_vec             41.462836   \n",
       "swimMovementFP_ds0_nm_160_cli105_vec             79.681602   \n",
       "...                                                    ...   \n",
       "swimMovementFP_ds9_nm_80_cli76_vec               84.132245   \n",
       "swimMovementFP_ds9_nm_80_cli77_vec               36.483449   \n",
       "swimMovementFP_ds9_nm_80_cli78_vec              190.649952   \n",
       "swimMovementFP_ds9_nm_80_cli79_vec               23.297763   \n",
       "swimMovementFP_ds9_nm_80_cli8_vec                65.155481   \n",
       "\n",
       "                                      average_eNB Throughput DL  \\\n",
       "swimMovementFP_ds0_nm_160_cli0_vec                    47.201458   \n",
       "swimMovementFP_ds0_nm_160_cli101_vec                  47.201458   \n",
       "swimMovementFP_ds0_nm_160_cli102_vec                  47.201458   \n",
       "swimMovementFP_ds0_nm_160_cli104_vec                  47.201458   \n",
       "swimMovementFP_ds0_nm_160_cli105_vec                  47.201458   \n",
       "...                                                         ...   \n",
       "swimMovementFP_ds9_nm_80_cli76_vec                    36.293424   \n",
       "swimMovementFP_ds9_nm_80_cli77_vec                    36.293424   \n",
       "swimMovementFP_ds9_nm_80_cli78_vec                    36.293424   \n",
       "swimMovementFP_ds9_nm_80_cli79_vec                    36.293424   \n",
       "swimMovementFP_ds9_nm_80_cli8_vec                     36.293424   \n",
       "\n",
       "                                      min_Downlink CQI  min_Uplink CQI  ...  \\\n",
       "swimMovementFP_ds0_nm_160_cli0_vec                15.0            13.0  ...   \n",
       "swimMovementFP_ds0_nm_160_cli101_vec              15.0             4.0  ...   \n",
       "swimMovementFP_ds0_nm_160_cli102_vec              15.0             6.0  ...   \n",
       "swimMovementFP_ds0_nm_160_cli104_vec              15.0            11.0  ...   \n",
       "swimMovementFP_ds0_nm_160_cli105_vec              15.0            15.0  ...   \n",
       "...                                                ...             ...  ...   \n",
       "swimMovementFP_ds9_nm_80_cli76_vec                15.0            15.0  ...   \n",
       "swimMovementFP_ds9_nm_80_cli77_vec                15.0             7.0  ...   \n",
       "swimMovementFP_ds9_nm_80_cli78_vec                15.0            15.0  ...   \n",
       "swimMovementFP_ds9_nm_80_cli79_vec                15.0             6.0  ...   \n",
       "swimMovementFP_ds9_nm_80_cli8_vec                 15.0            15.0  ...   \n",
       "\n",
       "                                      skew_Smoothed RTT  \\\n",
       "swimMovementFP_ds0_nm_160_cli0_vec             1.886137   \n",
       "swimMovementFP_ds0_nm_160_cli101_vec          -0.608048   \n",
       "swimMovementFP_ds0_nm_160_cli102_vec          -1.187334   \n",
       "swimMovementFP_ds0_nm_160_cli104_vec           1.872888   \n",
       "swimMovementFP_ds0_nm_160_cli105_vec           2.166904   \n",
       "...                                                 ...   \n",
       "swimMovementFP_ds9_nm_80_cli76_vec             1.933486   \n",
       "swimMovementFP_ds9_nm_80_cli77_vec             2.165498   \n",
       "swimMovementFP_ds9_nm_80_cli78_vec             0.875950   \n",
       "swimMovementFP_ds9_nm_80_cli79_vec             2.958265   \n",
       "swimMovementFP_ds9_nm_80_cli8_vec              0.934623   \n",
       "\n",
       "                                      skew_eNB Throughput DL  \\\n",
       "swimMovementFP_ds0_nm_160_cli0_vec                 -1.354610   \n",
       "swimMovementFP_ds0_nm_160_cli101_vec               -1.354610   \n",
       "swimMovementFP_ds0_nm_160_cli102_vec               -1.354610   \n",
       "swimMovementFP_ds0_nm_160_cli104_vec               -1.354610   \n",
       "swimMovementFP_ds0_nm_160_cli105_vec               -1.354610   \n",
       "...                                                      ...   \n",
       "swimMovementFP_ds9_nm_80_cli76_vec                 -0.325786   \n",
       "swimMovementFP_ds9_nm_80_cli77_vec                 -0.325786   \n",
       "swimMovementFP_ds9_nm_80_cli78_vec                 -0.325786   \n",
       "swimMovementFP_ds9_nm_80_cli79_vec                 -0.325786   \n",
       "swimMovementFP_ds9_nm_80_cli8_vec                  -0.325786   \n",
       "\n",
       "                                      sem_Downlink CQI  sem_Uplink CQI  \\\n",
       "swimMovementFP_ds0_nm_160_cli0_vec                 0.0             0.0   \n",
       "swimMovementFP_ds0_nm_160_cli101_vec               0.0             0.0   \n",
       "swimMovementFP_ds0_nm_160_cli102_vec               0.0             0.0   \n",
       "swimMovementFP_ds0_nm_160_cli104_vec               0.0             0.0   \n",
       "swimMovementFP_ds0_nm_160_cli105_vec               0.0             0.0   \n",
       "...                                                ...             ...   \n",
       "swimMovementFP_ds9_nm_80_cli76_vec                 0.0             0.0   \n",
       "swimMovementFP_ds9_nm_80_cli77_vec                 0.0             0.0   \n",
       "swimMovementFP_ds9_nm_80_cli78_vec                 0.0             0.0   \n",
       "swimMovementFP_ds9_nm_80_cli79_vec                 0.0             0.0   \n",
       "swimMovementFP_ds9_nm_80_cli8_vec                  0.0             0.0   \n",
       "\n",
       "                                      sem_Measured RTT  sem_UE Throughput UL  \\\n",
       "swimMovementFP_ds0_nm_160_cli0_vec            0.051180              0.001501   \n",
       "swimMovementFP_ds0_nm_160_cli101_vec          0.003380              0.000454   \n",
       "swimMovementFP_ds0_nm_160_cli102_vec          0.002831              0.000564   \n",
       "swimMovementFP_ds0_nm_160_cli104_vec          0.015284              0.002402   \n",
       "swimMovementFP_ds0_nm_160_cli105_vec          0.042576              0.001722   \n",
       "...                                                ...                   ...   \n",
       "swimMovementFP_ds9_nm_80_cli76_vec            0.045301              0.003353   \n",
       "swimMovementFP_ds9_nm_80_cli77_vec            0.014125              0.001669   \n",
       "swimMovementFP_ds9_nm_80_cli78_vec            0.066195              0.002922   \n",
       "swimMovementFP_ds9_nm_80_cli79_vec            0.111016              0.000369   \n",
       "swimMovementFP_ds9_nm_80_cli8_vec             0.025039              0.002619   \n",
       "\n",
       "                                      sem_eNB Throughput UL  \\\n",
       "swimMovementFP_ds0_nm_160_cli0_vec                 0.017891   \n",
       "swimMovementFP_ds0_nm_160_cli101_vec               0.017891   \n",
       "swimMovementFP_ds0_nm_160_cli102_vec               0.017891   \n",
       "swimMovementFP_ds0_nm_160_cli104_vec               0.017891   \n",
       "swimMovementFP_ds0_nm_160_cli105_vec               0.017891   \n",
       "...                                                     ...   \n",
       "swimMovementFP_ds9_nm_80_cli76_vec                 0.019678   \n",
       "swimMovementFP_ds9_nm_80_cli77_vec                 0.019678   \n",
       "swimMovementFP_ds9_nm_80_cli78_vec                 0.019678   \n",
       "swimMovementFP_ds9_nm_80_cli79_vec                 0.019678   \n",
       "swimMovementFP_ds9_nm_80_cli8_vec                  0.019678   \n",
       "\n",
       "                                      sem_UE Throughput DL  sem_Smoothed RTT  \\\n",
       "swimMovementFP_ds0_nm_160_cli0_vec                0.061428         14.698971   \n",
       "swimMovementFP_ds0_nm_160_cli101_vec              0.016517          1.657770   \n",
       "swimMovementFP_ds0_nm_160_cli102_vec              0.020604          1.315702   \n",
       "swimMovementFP_ds0_nm_160_cli104_vec              0.109406          3.350247   \n",
       "swimMovementFP_ds0_nm_160_cli105_vec              0.079896          9.326708   \n",
       "...                                                    ...               ...   \n",
       "swimMovementFP_ds9_nm_80_cli76_vec                0.159657          9.738605   \n",
       "swimMovementFP_ds9_nm_80_cli77_vec                0.076159          2.983669   \n",
       "swimMovementFP_ds9_nm_80_cli78_vec                0.138687         17.450348   \n",
       "swimMovementFP_ds9_nm_80_cli79_vec                0.013509         14.592524   \n",
       "swimMovementFP_ds9_nm_80_cli8_vec                 0.097108          5.608275   \n",
       "\n",
       "                                      sem_eNB Throughput DL  \n",
       "swimMovementFP_ds0_nm_160_cli0_vec                 0.363510  \n",
       "swimMovementFP_ds0_nm_160_cli101_vec               0.363510  \n",
       "swimMovementFP_ds0_nm_160_cli102_vec               0.363510  \n",
       "swimMovementFP_ds0_nm_160_cli104_vec               0.363510  \n",
       "swimMovementFP_ds0_nm_160_cli105_vec               0.363510  \n",
       "...                                                     ...  \n",
       "swimMovementFP_ds9_nm_80_cli76_vec                 0.402736  \n",
       "swimMovementFP_ds9_nm_80_cli77_vec                 0.402736  \n",
       "swimMovementFP_ds9_nm_80_cli78_vec                 0.402736  \n",
       "swimMovementFP_ds9_nm_80_cli79_vec                 0.402736  \n",
       "swimMovementFP_ds9_nm_80_cli8_vec                  0.402736  \n",
       "\n",
       "[13952 rows x 96 columns]"
      ]
     },
     "execution_count": 106,
     "metadata": {},
     "output_type": "execute_result"
    }
   ],
   "source": [
    "#read the metrics and target values from local files\n",
    "mat=pd.read_pickle('QoE_metrics_VoD(CQM_ITUT)_13952.pkl')\n",
    "# mat=pd.read_pickle('QoE_metrics_VoD(CMQ_ITUT)_13952.pkl')\n",
    "mat=mat.rename(columns={'QoE_ITUT':'QoE'})\n",
    "\n",
    "mat=mat.fillna(0)\n",
    "X=mat.iloc[:,-(mat.shape[1]-2):]\n",
    "\n",
    "Y=mat['QoE']\n",
    "#drop columns which have same values in all rows\n",
    "X=X.drop(X.std()[(X.std() == 0)].index, axis=1)\n",
    "maxnum_feature=X.shape[1]\n",
    "print(X.shape)\n",
    "X"
   ]
  },
  {
   "cell_type": "code",
   "execution_count": null,
   "metadata": {},
   "outputs": [],
   "source": [
    "s=pd.read_csv('QoE_metrics_VoD(CQM_ITUT)_13952.csv',index_col=0)\n",
    "s"
   ]
  },
  {
   "cell_type": "code",
   "execution_count": 6,
   "metadata": {},
   "outputs": [
    {
     "data": {
      "text/plain": [
       "(13952, 96)"
      ]
     },
     "execution_count": 6,
     "metadata": {},
     "output_type": "execute_result"
    }
   ],
   "source": [
    "'''No Type Dataset'''\n",
    "#read the metrics and target values from local files\n",
    "# mat=pd.read_pickle('QoE_4788.pkl')\n",
    "mat=pd.read_pickle('QoE_13952.pkl')\n",
    "mat=mat.rename(columns={'OverallScore':'QoE'})\n",
    "mat=mat.fillna(0)\n",
    "X=mat.iloc[:,-(mat.shape[1]-2):]\n",
    "\n",
    "Y=mat['QoE']\n",
    "#drop columns which have same values in all rows\n",
    "# X=X.drop(X.std()[(X.std() == 0)].index, axis=1)\n",
    "maxnum_feature=X.shape[1]\n",
    "X.shape"
   ]
  },
  {
   "cell_type": "code",
   "execution_count": 8,
   "metadata": {},
   "outputs": [
    {
     "data": {
      "text/plain": [
       "(13952, 96)"
      ]
     },
     "execution_count": 8,
     "metadata": {},
     "output_type": "execute_result"
    }
   ],
   "source": [
    "'''Old VoD dataset which pre-processed without add the last stalling event for the interrupted client'''\n",
    "#read the metrics and target values from local files\n",
    "# mat=pd.read_pickle('QoE_4788.pkl')\n",
    "mat_old=pd.read_pickle('QoE_13952.pkl')\n",
    "mat_old=mat_old.rename(columns={'OverallScore':'QoE'})\n",
    "mat_old=mat_old.fillna(0)\n",
    "X_old=mat_old.iloc[:,-(mat_old.shape[1]-2):]\n",
    "\n",
    "Y_old=mat_old['QoE']\n",
    "#drop columns which have same values in all rows\n",
    "# X=X.drop(X.std()[(X.std() == 0)].index, axis=1)\n",
    "maxnum_feature_old=X_old.shape[1]\n",
    "X_old.shape"
   ]
  },
  {
   "cell_type": "code",
   "execution_count": 3,
   "metadata": {},
   "outputs": [
    {
     "data": {
      "text/plain": [
       "(10678, 96)"
      ]
     },
     "execution_count": 3,
     "metadata": {},
     "output_type": "execute_result"
    }
   ],
   "source": [
    "'''clients which played video time is more than the threshold'''\n",
    "#read the metrics and target values from local files\n",
    "# mat=pd.read_pickle('QoE_4788.pkl')\n",
    "mat_over25=pd.read_pickle('QoE_10678_over25segs.pkl')\n",
    "mat_over25=mat_over25.fillna(0)\n",
    "X_over25=mat_over25.iloc[:,-(mat_over25.shape[1]-2):]\n",
    "\n",
    "Y_over25=mat_over25['QoE']\n",
    "#drop columns which have same values in all rows\n",
    "# X=X.drop(X.std()[(X.std() == 0)].index, axis=1)\n",
    "maxnum_feature=X_over25.shape[1]\n",
    "X_over25.shape"
   ]
  },
  {
   "cell_type": "code",
   "execution_count": 19,
   "metadata": {},
   "outputs": [
    {
     "data": {
      "text/plain": [
       "(10678, 12)"
      ]
     },
     "execution_count": 19,
     "metadata": {},
     "output_type": "execute_result"
    }
   ],
   "source": [
    "'''\n",
    "Read the data the data related to UE DL Throughput\n",
    "'''\n",
    "mat=pd.read_pickle('QoE_10678_over25segs_UEDLTP.pkl')\n",
    "mat=mat.rename(columns={'OverallScore':'QoE'})\n",
    "X=mat.iloc[:,:-1]\n",
    "\n",
    "Y=mat['QoE']\n",
    "#drop columns which have same values in all rows\n",
    "# X=X.drop(X.std()[(X.std() == 0)].index, axis=1)\n",
    "maxnum_feature=X.shape[1]\n",
    "X.shape"
   ]
  },
  {
   "cell_type": "code",
   "execution_count": 5,
   "metadata": {},
   "outputs": [],
   "source": [
    "# '''\n",
    "# clients which played video time is more than the threshold (the threshold is 125s(25segments) for now)\n",
    "# '''\n",
    "\n",
    "# clients_overSegs25=pd.read_csv('clients_overSegs25.csv') \n",
    "# #convert the dataframe to list\n",
    "# s=clients_overSegs25['0'].tolist()\n",
    "# #select all rows according to the clients list\n",
    "# QoE_10678_over25segs=mat.loc[s]\n",
    "# QoE_10678_over25segs.to_pickle('QoE_10678_over25segs.pkl')\n"
   ]
  },
  {
   "cell_type": "code",
   "execution_count": 8,
   "metadata": {},
   "outputs": [
    {
     "data": {
      "text/plain": [
       "4.6151114829731235"
      ]
     },
     "execution_count": 8,
     "metadata": {},
     "output_type": "execute_result"
    }
   ],
   "source": [
    "df['daychange']<8) & (df['daychange']>2"
   ]
  },
  {
   "cell_type": "code",
   "execution_count": 17,
   "metadata": {},
   "outputs": [
    {
     "data": {
      "text/plain": [
       "(9151,)"
      ]
     },
     "execution_count": 17,
     "metadata": {},
     "output_type": "execute_result"
    }
   ],
   "source": [
    "Y[(Y<2.5) & (Y>1)].shape"
   ]
  },
  {
   "cell_type": "code",
   "execution_count": 74,
   "metadata": {},
   "outputs": [
    {
     "data": {
      "text/plain": [
       "(637,)"
      ]
     },
     "execution_count": 74,
     "metadata": {},
     "output_type": "execute_result"
    }
   ],
   "source": [
    "Y_test[Y_test>2.5].shape"
   ]
  },
  {
   "cell_type": "code",
   "execution_count": 70,
   "metadata": {},
   "outputs": [
    {
     "data": {
      "text/plain": [
       "(10678,)"
      ]
     },
     "execution_count": 70,
     "metadata": {},
     "output_type": "execute_result"
    }
   ],
   "source": [
    "Y.shape"
   ]
  },
  {
   "cell_type": "code",
   "execution_count": 72,
   "metadata": {},
   "outputs": [
    {
     "data": {
      "text/plain": [
       "(2136,)"
      ]
     },
     "execution_count": 72,
     "metadata": {},
     "output_type": "execute_result"
    }
   ],
   "source": [
    "Y_test.shape"
   ]
  },
  {
   "cell_type": "code",
   "execution_count": 14,
   "metadata": {},
   "outputs": [
    {
     "data": {
      "text/plain": [
       "swimMovementFP_ds1_p1_s0-100_160_cli47_vec     1.745985\n",
       "swimMovementFP_ds0_p1_s0-100_160_cli104_vec    1.745985\n",
       "Name: QoE, dtype: float64"
      ]
     },
     "execution_count": 14,
     "metadata": {},
     "output_type": "execute_result"
    }
   ],
   "source": [
    "Y[Y>1].nsmallest(2)"
   ]
  },
  {
   "cell_type": "code",
   "execution_count": 32,
   "metadata": {},
   "outputs": [
    {
     "name": "stdout",
     "output_type": "stream",
     "text": [
      "13952 2.1834172811890533 0.596785931651379 4.6151114829731235 1.7459625097968012\n",
      "3210 2.4082857625264107 0.8234853822022937 4.6151114829731235 1.7495302831100328\n",
      "10742 2.1162204998547653 0.49027053726828534 4.608298345086925 1.7459625097968012\n",
      "8095 1.8293243674894641 0.06834133729649489 1.999972962068698 1.7459625097968012\n",
      "5067 2.4630084768779703 0.38691213226873233 3.499916930819612 2.0002120413413627\n",
      "790 4.018472405040231 0.35810607680749895 4.6151114829731235 3.5006314055079217\n"
     ]
    }
   ],
   "source": [
    "# Y=pd.read_pickle('QoE_metrics_VoD(CQM_ITUT)_13952.pkl')['QoE_CQM']\n",
    "Y=pd.read_pickle('QoE_metrics_VoD(CQM_ITUT)_13952.pkl')['QoE_ITUT']\n",
    "stationary=Y.filter(like='_nm_', axis=0)\n",
    "moving=Y.drop(Y.filter(like='_nm_', axis=0).index)\n",
    "low=Y[Y<=2]\n",
    "medium=Y[(Y<3.5) & (Y>2)]\n",
    "high=Y[Y>=3.5]\n",
    "print(len(Y),Y.mean(),Y.std(),Y.max(),Y.min())\n",
    "print(len(stationary),stationary.mean(),stationary.std(),stationary.max(),stationary.min())\n",
    "print(len(moving),moving.mean(),moving.std(),moving.max(),moving.min())\n",
    "print(len(low),low.mean(),low.std(),low.max(),low.min())\n",
    "print(len(medium),medium.mean(),medium.std(),medium.max(),medium.min())\n",
    "print(len(high),high.mean(),high.std(),high.max(),high.min())"
   ]
  },
  {
   "cell_type": "code",
   "execution_count": 33,
   "metadata": {},
   "outputs": [],
   "source": [
    "pd.DataFrame([[len(Y),Y.mean(),Y.std(),Y.max(),Y.min()],\n",
    "            [len(stationary),stationary.mean(),stationary.std(),stationary.max(),stationary.min()],\n",
    "            [len(moving),moving.mean(),moving.std(),moving.max(),moving.min()],\n",
    "            [len(low),low.mean(),low.std(),low.max(),low.min()],\n",
    "            [len(medium),medium.mean(),medium.std(),medium.max(),medium.min()],\n",
    "            [len(high),high.mean(),high.std(),high.max(),high.min()]]).to_csv('test.csv')"
   ]
  },
  {
   "cell_type": "markdown",
   "metadata": {},
   "source": [
    "## store the file which shows the predicted QoE vs. the actual QoE"
   ]
  },
  {
   "cell_type": "code",
   "execution_count": 20,
   "metadata": {},
   "outputs": [],
   "source": [
    "#read the model1\n",
    "cv_Lasso=joblib.load('model_over25_UEDLTP_Lasso_MSE.joblib')\n",
    "cv_LRR=joblib.load('model_over25_UEDLTP_LRR_MSE.joblib')\n",
    "cv_krr=joblib.load('model_over25_UEDLTP_krr_MSE.joblib')\n",
    "cv_SVR=joblib.load('model_over25_UEDLTP_SVR_MSE.joblib')"
   ]
  },
  {
   "cell_type": "code",
   "execution_count": 21,
   "metadata": {},
   "outputs": [
    {
     "data": {
      "text/plain": [
       "((2136, 12), (2136,))"
      ]
     },
     "execution_count": 21,
     "metadata": {},
     "output_type": "execute_result"
    }
   ],
   "source": [
    "X_train, X_test, Y_train, Y_test = train_test_split(X, Y, test_size=0.2,random_state=17)\n",
    "X_test.shape,Y_test.shape"
   ]
  },
  {
   "cell_type": "code",
   "execution_count": 64,
   "metadata": {},
   "outputs": [],
   "source": [
    "df_pre=pd.DataFrame([cv_Lasso.predict(X_test),cv_LRR.predict(X_test),cv_krr.predict(X_test),cv_SVR.predict(X_test)],index=['LASSO','LRR','KRR','SVR']).T\n",
    "s=pd.concat([Y_test.reset_index(drop=True),df_pre.reset_index(drop=True)],axis=1)\n",
    "s.index=Y_test.index\n",
    "s.to_pickle('CQM QoE vs Predicted QoE by the model with all features.pkl')"
   ]
  },
  {
   "cell_type": "markdown",
   "metadata": {},
   "source": [
    "## CDF of QoE"
   ]
  },
  {
   "cell_type": "code",
   "execution_count": 15,
   "metadata": {},
   "outputs": [
    {
     "data": {
      "image/png": "[encoded data removed]",
      "text/plain": [
       "<Figure size 1152x864 with 1 Axes>"
      ]
     },
     "metadata": {
      "needs_background": "light"
     },
     "output_type": "display_data"
    }
   ],
   "source": [
    "'''\n",
    "CDF plot\n",
    "'''\n",
    "fig, ax = plt.subplots(figsize=(16,12))\n",
    "\n",
    "sorted_data = np.sort(mat['QoE'])\n",
    "linspaced = np.linspace(0, 1, len(mat['QoE']), endpoint=False)\n",
    "ax.plot(sorted_data, linspaced, rasterized=False)\n",
    "ax.grid(True)\n",
    "\n",
    "plt.xlabel('QoE')\n",
    "plt.ylabel('CDF')\n",
    "# plt.title('CDF of QoE score')\n",
    "# plt.show()\n",
    "plt.xlim((0.8,5))\n",
    "plt.tight_layout()\n",
    "plt.savefig('CDF of CQM QoE in VoD.pdf',dpi=100, bbox_inches='tight')"
   ]
  },
  {
   "cell_type": "code",
   "execution_count": 26,
   "metadata": {},
   "outputs": [],
   "source": [
    "def cdf_test(datalist,labels):\n",
    "    fig, ax = plt.subplots(figsize=(16,12))\n",
    "    re=pd.DataFrame()\n",
    "    for i,data in enumerate(datalist):\n",
    "        sorted_data = np.sort(data)\n",
    "        linspaced = np.linspace(0, 1, len(data), endpoint=False)\n",
    "        print(np.interp(3, sorted_data,linspaced))\n",
    "        \n",
    "        ax.plot(sorted_data, linspaced, 'o-',label=labels[i],rasterized=False,markersize=6)\n",
    "        ax.grid(True)\n",
    "    plt.xlabel('QoE')\n",
    "    plt.ylabel('CDF')\n",
    "#     plt.xticks(np.concatenate([np.arange(0,401,50),np.array([30])]))\n",
    "    plt.legend()\n",
    "#     plt.ylim((0,1))\n",
    "    plt.xlim((0.8,5))\n",
    "    plt.show()\n",
    "    plt.tight_layout()\n",
    "    fig.savefig('CDF of QoE in VoD(ITU-T vs CQM).pdf', dpi=100, bbox_inches='tight')"
   ]
  },
  {
   "cell_type": "code",
   "execution_count": 27,
   "metadata": {
    "scrolled": false
   },
   "outputs": [
    {
     "name": "stdout",
     "output_type": "stream",
     "text": [
      "0.8988258357983895\n",
      "0.9146045810016158\n"
     ]
    },
    {
     "data": {
      "image/png": "[encoded data removed]",
      "text/plain": [
       "<Figure size 1152x864 with 1 Axes>"
      ]
     },
     "metadata": {
      "needs_background": "light"
     },
     "output_type": "display_data"
    },
    {
     "data": {
      "text/plain": [
       "<Figure size 432x288 with 0 Axes>"
      ]
     },
     "metadata": {},
     "output_type": "display_data"
    }
   ],
   "source": [
    "Y_old=mat['QoE_ITUT']\n",
    "cdf_test([Y_old,Y],['ITU-T','CQM'])"
   ]
  },
  {
   "cell_type": "markdown",
   "metadata": {},
   "source": [
    "### Split the data into different speed of movements"
   ]
  },
  {
   "cell_type": "code",
   "execution_count": 39,
   "metadata": {},
   "outputs": [
    {
     "data": {
      "text/plain": [
       "((2791, 96), (630, 96), (2161, 96), (1037, 96), (1124, 96))"
      ]
     },
     "execution_count": 39,
     "metadata": {},
     "output_type": "execute_result"
    }
   ],
   "source": [
    "X_train, X_test, Y_train, Y_test = train_test_split(X, Y, test_size=0.2,random_state=17)\n",
    "\n",
    "X_stationary=X_test.filter(like='_nm_', axis=0)\n",
    "Y_stationary=Y_test.filter(like='_nm_', axis=0)\n",
    "\n",
    "X_moving=X_test.drop(X_test.filter(like='_nm_', axis=0).index)\n",
    "Y_moving=Y_test.drop(Y_test.filter(like='_nm_', axis=0).index)\n",
    "\n",
    "X_pedestrians=X_moving.filter(regex='_s50-50_80_cli([0123]?[0-9]_)|_s100-0_|_s50-50_160_cli([01234567]?[0-9]_)',axis=0)\n",
    "Y_pedestrians=Y_moving.filter(regex='_s50-50_80_cli([0123]?[0-9]_)|_s100-0_|_s50-50_160_cli([01234567]?[0-9]_)',axis=0)\n",
    "\n",
    "X_vehicles=X_moving.filter(regex='_s50-50_80_cli(4[0-9]|[567][0-9]_)|_s0-100_|_s50-50_160_cli([89][0-9]|1[0-5][0-9])',axis=0)\n",
    "Y_vehicles=Y_moving.filter(regex='_s50-50_80_cli(4[0-9]|[567][0-9]_)|_s0-100_|_s50-50_160_cli([89][0-9]|1[0-5][0-9])',axis=0)\n",
    "\n",
    "X_test.shape,X_stationary.shape,X_moving.shape,X_pedestrians.shape,X_vehicles.shape\n"
   ]
  },
  {
   "cell_type": "code",
   "execution_count": null,
   "metadata": {},
   "outputs": [],
   "source": [
    "'''Split the data into different speed of movements '''\n",
    "stationary=mat.filter(like='_nm_', axis=0)\n",
    "X_stationary=stationary.iloc[:,1:]\n",
    "Y_stationary=stationary['QoE']\n",
    "X_stationary=X_stationary.drop(X_stationary.std()[(X_stationary.std() == 0)].index, axis=1)\n",
    "\n",
    "moving=mat.drop(mat.filter(like='_nm_', axis=0).index)\n",
    "X_moving=moving.iloc[:,1:]\n",
    "Y_moving=moving['QoE']\n",
    "X_moving=X_moving.drop(X_moving.std()[(X_moving.std() == 0)].index, axis=1)\n",
    "X_stationary.shape,X_moving.shape"
   ]
  },
  {
   "cell_type": "code",
   "execution_count": null,
   "metadata": {},
   "outputs": [],
   "source": [
    "X=X_moving\n",
    "Y=Y_moving\n",
    "maxnum_feature=X.shape[1]"
   ]
  },
  {
   "cell_type": "code",
   "execution_count": null,
   "metadata": {},
   "outputs": [],
   "source": [
    "'''VoIP(Voice over Internet Protocal) dataset'''\n",
    "#read the metrics and target values from local files\n",
    "mat_VoIP=pd.read_pickle('QoE_5517_VoIP.pkl')\n",
    "mat_VoIP=mat_VoIP.fillna(0)\n",
    "X_VoIP=mat_VoIP.iloc[:,1:]\n",
    "\n",
    "Y_VoIP=mat_VoIP['QoE']\n",
    "#drop columns which have same values in all rows\n",
    "X_VoIP=X_VoIP.drop(X_VoIP.std()[(X_VoIP.std() == 0)].index, axis=1)\n",
    "maxnum_feature=X_VoIP.shape[1]\n",
    "X_VoIP.shape"
   ]
  },
  {
   "cell_type": "code",
   "execution_count": null,
   "metadata": {},
   "outputs": [],
   "source": [
    "'''VOD(Video on demand) and LIVE dataset'''\n",
    "mat_vod=pd.read_pickle('QoE_281_VOD.pkl').rename(columns={'OverallScore':'QoE'}).fillna(0)\n",
    "mat_live=pd.read_pickle('QoE_270_LIVE.pkl').rename(columns={'OverallScore':'QoE'}).fillna(0)\n",
    "mat_vod.shape,mat_live.shape"
   ]
  },
  {
   "cell_type": "markdown",
   "metadata": {},
   "source": [
    "## Select the data only contains certain features"
   ]
  },
  {
   "cell_type": "code",
   "execution_count": 7,
   "metadata": {},
   "outputs": [
    {
     "data": {
      "text/html": [
       "<div>\n",
       "<style scoped>\n",
       "    .dataframe tbody tr th:only-of-type {\n",
       "        vertical-align: middle;\n",
       "    }\n",
       "\n",
       "    .dataframe tbody tr th {\n",
       "        vertical-align: top;\n",
       "    }\n",
       "\n",
       "    .dataframe thead th {\n",
       "        text-align: right;\n",
       "    }\n",
       "</style>\n",
       "<table border=\"1\" class=\"dataframe\">\n",
       "  <thead>\n",
       "    <tr style=\"text-align: right;\">\n",
       "      <th></th>\n",
       "      <th>average_UE Throughput DL</th>\n",
       "      <th>min_UE Throughput DL</th>\n",
       "      <th>max_UE Throughput DL</th>\n",
       "      <th>25percentile_UE Throughput DL</th>\n",
       "      <th>median_UE Throughput DL</th>\n",
       "      <th>75percentile_UE Throughput DL</th>\n",
       "      <th>std_UE Throughput DL</th>\n",
       "      <th>var_UE Throughput DL</th>\n",
       "      <th>cov_UE Throughput DL</th>\n",
       "      <th>kurt_UE Throughput DL</th>\n",
       "      <th>skew_UE Throughput DL</th>\n",
       "      <th>sem_UE Throughput DL</th>\n",
       "      <th>QoE</th>\n",
       "    </tr>\n",
       "  </thead>\n",
       "  <tbody>\n",
       "    <tr>\n",
       "      <th>swimMovementFP_ds0_nm_160_cli0_vec</th>\n",
       "      <td>0.636493</td>\n",
       "      <td>0.0</td>\n",
       "      <td>9.341128</td>\n",
       "      <td>0.000000</td>\n",
       "      <td>0.023872</td>\n",
       "      <td>0.460364</td>\n",
       "      <td>1.408834</td>\n",
       "      <td>1.984812</td>\n",
       "      <td>2.211325</td>\n",
       "      <td>10.295794</td>\n",
       "      <td>3.106342</td>\n",
       "      <td>0.061428</td>\n",
       "      <td>2.238775</td>\n",
       "    </tr>\n",
       "    <tr>\n",
       "      <th>swimMovementFP_ds0_nm_160_cli101_vec</th>\n",
       "      <td>0.197729</td>\n",
       "      <td>0.0</td>\n",
       "      <td>4.706384</td>\n",
       "      <td>0.000000</td>\n",
       "      <td>0.056632</td>\n",
       "      <td>0.262774</td>\n",
       "      <td>0.404585</td>\n",
       "      <td>0.163689</td>\n",
       "      <td>2.044452</td>\n",
       "      <td>42.670828</td>\n",
       "      <td>5.497352</td>\n",
       "      <td>0.016517</td>\n",
       "      <td>1.783500</td>\n",
       "    </tr>\n",
       "    <tr>\n",
       "      <th>swimMovementFP_ds0_nm_160_cli102_vec</th>\n",
       "      <td>0.218561</td>\n",
       "      <td>0.0</td>\n",
       "      <td>6.986640</td>\n",
       "      <td>0.000000</td>\n",
       "      <td>0.083552</td>\n",
       "      <td>0.262592</td>\n",
       "      <td>0.503439</td>\n",
       "      <td>0.253451</td>\n",
       "      <td>2.301497</td>\n",
       "      <td>73.515760</td>\n",
       "      <td>7.287049</td>\n",
       "      <td>0.020604</td>\n",
       "      <td>1.785385</td>\n",
       "    </tr>\n",
       "    <tr>\n",
       "      <th>swimMovementFP_ds0_nm_160_cli104_vec</th>\n",
       "      <td>1.218006</td>\n",
       "      <td>0.0</td>\n",
       "      <td>13.862808</td>\n",
       "      <td>0.000000</td>\n",
       "      <td>0.344176</td>\n",
       "      <td>0.928872</td>\n",
       "      <td>2.247479</td>\n",
       "      <td>5.051162</td>\n",
       "      <td>1.843024</td>\n",
       "      <td>8.919458</td>\n",
       "      <td>2.811114</td>\n",
       "      <td>0.109406</td>\n",
       "      <td>3.732687</td>\n",
       "    </tr>\n",
       "    <tr>\n",
       "      <th>swimMovementFP_ds0_nm_160_cli105_vec</th>\n",
       "      <td>0.920070</td>\n",
       "      <td>0.0</td>\n",
       "      <td>10.362632</td>\n",
       "      <td>0.000000</td>\n",
       "      <td>0.226528</td>\n",
       "      <td>0.785276</td>\n",
       "      <td>1.649025</td>\n",
       "      <td>2.719284</td>\n",
       "      <td>1.790178</td>\n",
       "      <td>7.121853</td>\n",
       "      <td>2.540892</td>\n",
       "      <td>0.079896</td>\n",
       "      <td>3.349598</td>\n",
       "    </tr>\n",
       "    <tr>\n",
       "      <th>...</th>\n",
       "      <td>...</td>\n",
       "      <td>...</td>\n",
       "      <td>...</td>\n",
       "      <td>...</td>\n",
       "      <td>...</td>\n",
       "      <td>...</td>\n",
       "      <td>...</td>\n",
       "      <td>...</td>\n",
       "      <td>...</td>\n",
       "      <td>...</td>\n",
       "      <td>...</td>\n",
       "      <td>...</td>\n",
       "      <td>...</td>\n",
       "    </tr>\n",
       "    <tr>\n",
       "      <th>swimMovementFP_ds9_nm_80_cli74_vec</th>\n",
       "      <td>3.051188</td>\n",
       "      <td>0.0</td>\n",
       "      <td>19.717504</td>\n",
       "      <td>0.000000</td>\n",
       "      <td>0.381952</td>\n",
       "      <td>5.765088</td>\n",
       "      <td>4.449063</td>\n",
       "      <td>19.794158</td>\n",
       "      <td>1.456142</td>\n",
       "      <td>0.785231</td>\n",
       "      <td>1.383745</td>\n",
       "      <td>0.232875</td>\n",
       "      <td>4.613179</td>\n",
       "    </tr>\n",
       "    <tr>\n",
       "      <th>swimMovementFP_ds9_nm_80_cli76_vec</th>\n",
       "      <td>1.541809</td>\n",
       "      <td>0.0</td>\n",
       "      <td>19.944672</td>\n",
       "      <td>0.011936</td>\n",
       "      <td>0.286464</td>\n",
       "      <td>0.834728</td>\n",
       "      <td>3.189140</td>\n",
       "      <td>10.170616</td>\n",
       "      <td>2.065848</td>\n",
       "      <td>9.121570</td>\n",
       "      <td>2.946150</td>\n",
       "      <td>0.159657</td>\n",
       "      <td>3.373244</td>\n",
       "    </tr>\n",
       "    <tr>\n",
       "      <th>swimMovementFP_ds9_nm_80_cli77_vec</th>\n",
       "      <td>0.781816</td>\n",
       "      <td>0.0</td>\n",
       "      <td>18.276864</td>\n",
       "      <td>0.000000</td>\n",
       "      <td>0.242616</td>\n",
       "      <td>0.615516</td>\n",
       "      <td>1.611982</td>\n",
       "      <td>2.598486</td>\n",
       "      <td>2.059541</td>\n",
       "      <td>35.624297</td>\n",
       "      <td>4.726777</td>\n",
       "      <td>0.076159</td>\n",
       "      <td>2.391311</td>\n",
       "    </tr>\n",
       "    <tr>\n",
       "      <th>swimMovementFP_ds9_nm_80_cli78_vec</th>\n",
       "      <td>1.502565</td>\n",
       "      <td>0.0</td>\n",
       "      <td>14.488592</td>\n",
       "      <td>0.023872</td>\n",
       "      <td>0.298212</td>\n",
       "      <td>0.987366</td>\n",
       "      <td>2.745862</td>\n",
       "      <td>7.539759</td>\n",
       "      <td>1.825117</td>\n",
       "      <td>6.061867</td>\n",
       "      <td>2.436424</td>\n",
       "      <td>0.138687</td>\n",
       "      <td>4.105616</td>\n",
       "    </tr>\n",
       "    <tr>\n",
       "      <th>swimMovementFP_ds9_nm_80_cli8_vec</th>\n",
       "      <td>0.978633</td>\n",
       "      <td>0.0</td>\n",
       "      <td>19.489824</td>\n",
       "      <td>0.000000</td>\n",
       "      <td>0.182852</td>\n",
       "      <td>0.665568</td>\n",
       "      <td>2.050801</td>\n",
       "      <td>4.205785</td>\n",
       "      <td>2.093227</td>\n",
       "      <td>27.818911</td>\n",
       "      <td>4.284693</td>\n",
       "      <td>0.097108</td>\n",
       "      <td>3.143301</td>\n",
       "    </tr>\n",
       "  </tbody>\n",
       "</table>\n",
       "<p>10678 rows × 13 columns</p>\n",
       "</div>"
      ],
      "text/plain": [
       "                                      average_UE Throughput DL  \\\n",
       "swimMovementFP_ds0_nm_160_cli0_vec                    0.636493   \n",
       "swimMovementFP_ds0_nm_160_cli101_vec                  0.197729   \n",
       "swimMovementFP_ds0_nm_160_cli102_vec                  0.218561   \n",
       "swimMovementFP_ds0_nm_160_cli104_vec                  1.218006   \n",
       "swimMovementFP_ds0_nm_160_cli105_vec                  0.920070   \n",
       "...                                                        ...   \n",
       "swimMovementFP_ds9_nm_80_cli74_vec                    3.051188   \n",
       "swimMovementFP_ds9_nm_80_cli76_vec                    1.541809   \n",
       "swimMovementFP_ds9_nm_80_cli77_vec                    0.781816   \n",
       "swimMovementFP_ds9_nm_80_cli78_vec                    1.502565   \n",
       "swimMovementFP_ds9_nm_80_cli8_vec                     0.978633   \n",
       "\n",
       "                                      min_UE Throughput DL  \\\n",
       "swimMovementFP_ds0_nm_160_cli0_vec                     0.0   \n",
       "swimMovementFP_ds0_nm_160_cli101_vec                   0.0   \n",
       "swimMovementFP_ds0_nm_160_cli102_vec                   0.0   \n",
       "swimMovementFP_ds0_nm_160_cli104_vec                   0.0   \n",
       "swimMovementFP_ds0_nm_160_cli105_vec                   0.0   \n",
       "...                                                    ...   \n",
       "swimMovementFP_ds9_nm_80_cli74_vec                     0.0   \n",
       "swimMovementFP_ds9_nm_80_cli76_vec                     0.0   \n",
       "swimMovementFP_ds9_nm_80_cli77_vec                     0.0   \n",
       "swimMovementFP_ds9_nm_80_cli78_vec                     0.0   \n",
       "swimMovementFP_ds9_nm_80_cli8_vec                      0.0   \n",
       "\n",
       "                                      max_UE Throughput DL  \\\n",
       "swimMovementFP_ds0_nm_160_cli0_vec                9.341128   \n",
       "swimMovementFP_ds0_nm_160_cli101_vec              4.706384   \n",
       "swimMovementFP_ds0_nm_160_cli102_vec              6.986640   \n",
       "swimMovementFP_ds0_nm_160_cli104_vec             13.862808   \n",
       "swimMovementFP_ds0_nm_160_cli105_vec             10.362632   \n",
       "...                                                    ...   \n",
       "swimMovementFP_ds9_nm_80_cli74_vec               19.717504   \n",
       "swimMovementFP_ds9_nm_80_cli76_vec               19.944672   \n",
       "swimMovementFP_ds9_nm_80_cli77_vec               18.276864   \n",
       "swimMovementFP_ds9_nm_80_cli78_vec               14.488592   \n",
       "swimMovementFP_ds9_nm_80_cli8_vec                19.489824   \n",
       "\n",
       "                                      25percentile_UE Throughput DL  \\\n",
       "swimMovementFP_ds0_nm_160_cli0_vec                         0.000000   \n",
       "swimMovementFP_ds0_nm_160_cli101_vec                       0.000000   \n",
       "swimMovementFP_ds0_nm_160_cli102_vec                       0.000000   \n",
       "swimMovementFP_ds0_nm_160_cli104_vec                       0.000000   \n",
       "swimMovementFP_ds0_nm_160_cli105_vec                       0.000000   \n",
       "...                                                             ...   \n",
       "swimMovementFP_ds9_nm_80_cli74_vec                         0.000000   \n",
       "swimMovementFP_ds9_nm_80_cli76_vec                         0.011936   \n",
       "swimMovementFP_ds9_nm_80_cli77_vec                         0.000000   \n",
       "swimMovementFP_ds9_nm_80_cli78_vec                         0.023872   \n",
       "swimMovementFP_ds9_nm_80_cli8_vec                          0.000000   \n",
       "\n",
       "                                      median_UE Throughput DL  \\\n",
       "swimMovementFP_ds0_nm_160_cli0_vec                   0.023872   \n",
       "swimMovementFP_ds0_nm_160_cli101_vec                 0.056632   \n",
       "swimMovementFP_ds0_nm_160_cli102_vec                 0.083552   \n",
       "swimMovementFP_ds0_nm_160_cli104_vec                 0.344176   \n",
       "swimMovementFP_ds0_nm_160_cli105_vec                 0.226528   \n",
       "...                                                       ...   \n",
       "swimMovementFP_ds9_nm_80_cli74_vec                   0.381952   \n",
       "swimMovementFP_ds9_nm_80_cli76_vec                   0.286464   \n",
       "swimMovementFP_ds9_nm_80_cli77_vec                   0.242616   \n",
       "swimMovementFP_ds9_nm_80_cli78_vec                   0.298212   \n",
       "swimMovementFP_ds9_nm_80_cli8_vec                    0.182852   \n",
       "\n",
       "                                      75percentile_UE Throughput DL  \\\n",
       "swimMovementFP_ds0_nm_160_cli0_vec                         0.460364   \n",
       "swimMovementFP_ds0_nm_160_cli101_vec                       0.262774   \n",
       "swimMovementFP_ds0_nm_160_cli102_vec                       0.262592   \n",
       "swimMovementFP_ds0_nm_160_cli104_vec                       0.928872   \n",
       "swimMovementFP_ds0_nm_160_cli105_vec                       0.785276   \n",
       "...                                                             ...   \n",
       "swimMovementFP_ds9_nm_80_cli74_vec                         5.765088   \n",
       "swimMovementFP_ds9_nm_80_cli76_vec                         0.834728   \n",
       "swimMovementFP_ds9_nm_80_cli77_vec                         0.615516   \n",
       "swimMovementFP_ds9_nm_80_cli78_vec                         0.987366   \n",
       "swimMovementFP_ds9_nm_80_cli8_vec                          0.665568   \n",
       "\n",
       "                                      std_UE Throughput DL  \\\n",
       "swimMovementFP_ds0_nm_160_cli0_vec                1.408834   \n",
       "swimMovementFP_ds0_nm_160_cli101_vec              0.404585   \n",
       "swimMovementFP_ds0_nm_160_cli102_vec              0.503439   \n",
       "swimMovementFP_ds0_nm_160_cli104_vec              2.247479   \n",
       "swimMovementFP_ds0_nm_160_cli105_vec              1.649025   \n",
       "...                                                    ...   \n",
       "swimMovementFP_ds9_nm_80_cli74_vec                4.449063   \n",
       "swimMovementFP_ds9_nm_80_cli76_vec                3.189140   \n",
       "swimMovementFP_ds9_nm_80_cli77_vec                1.611982   \n",
       "swimMovementFP_ds9_nm_80_cli78_vec                2.745862   \n",
       "swimMovementFP_ds9_nm_80_cli8_vec                 2.050801   \n",
       "\n",
       "                                      var_UE Throughput DL  \\\n",
       "swimMovementFP_ds0_nm_160_cli0_vec                1.984812   \n",
       "swimMovementFP_ds0_nm_160_cli101_vec              0.163689   \n",
       "swimMovementFP_ds0_nm_160_cli102_vec              0.253451   \n",
       "swimMovementFP_ds0_nm_160_cli104_vec              5.051162   \n",
       "swimMovementFP_ds0_nm_160_cli105_vec              2.719284   \n",
       "...                                                    ...   \n",
       "swimMovementFP_ds9_nm_80_cli74_vec               19.794158   \n",
       "swimMovementFP_ds9_nm_80_cli76_vec               10.170616   \n",
       "swimMovementFP_ds9_nm_80_cli77_vec                2.598486   \n",
       "swimMovementFP_ds9_nm_80_cli78_vec                7.539759   \n",
       "swimMovementFP_ds9_nm_80_cli8_vec                 4.205785   \n",
       "\n",
       "                                      cov_UE Throughput DL  \\\n",
       "swimMovementFP_ds0_nm_160_cli0_vec                2.211325   \n",
       "swimMovementFP_ds0_nm_160_cli101_vec              2.044452   \n",
       "swimMovementFP_ds0_nm_160_cli102_vec              2.301497   \n",
       "swimMovementFP_ds0_nm_160_cli104_vec              1.843024   \n",
       "swimMovementFP_ds0_nm_160_cli105_vec              1.790178   \n",
       "...                                                    ...   \n",
       "swimMovementFP_ds9_nm_80_cli74_vec                1.456142   \n",
       "swimMovementFP_ds9_nm_80_cli76_vec                2.065848   \n",
       "swimMovementFP_ds9_nm_80_cli77_vec                2.059541   \n",
       "swimMovementFP_ds9_nm_80_cli78_vec                1.825117   \n",
       "swimMovementFP_ds9_nm_80_cli8_vec                 2.093227   \n",
       "\n",
       "                                      kurt_UE Throughput DL  \\\n",
       "swimMovementFP_ds0_nm_160_cli0_vec                10.295794   \n",
       "swimMovementFP_ds0_nm_160_cli101_vec              42.670828   \n",
       "swimMovementFP_ds0_nm_160_cli102_vec              73.515760   \n",
       "swimMovementFP_ds0_nm_160_cli104_vec               8.919458   \n",
       "swimMovementFP_ds0_nm_160_cli105_vec               7.121853   \n",
       "...                                                     ...   \n",
       "swimMovementFP_ds9_nm_80_cli74_vec                 0.785231   \n",
       "swimMovementFP_ds9_nm_80_cli76_vec                 9.121570   \n",
       "swimMovementFP_ds9_nm_80_cli77_vec                35.624297   \n",
       "swimMovementFP_ds9_nm_80_cli78_vec                 6.061867   \n",
       "swimMovementFP_ds9_nm_80_cli8_vec                 27.818911   \n",
       "\n",
       "                                      skew_UE Throughput DL  \\\n",
       "swimMovementFP_ds0_nm_160_cli0_vec                 3.106342   \n",
       "swimMovementFP_ds0_nm_160_cli101_vec               5.497352   \n",
       "swimMovementFP_ds0_nm_160_cli102_vec               7.287049   \n",
       "swimMovementFP_ds0_nm_160_cli104_vec               2.811114   \n",
       "swimMovementFP_ds0_nm_160_cli105_vec               2.540892   \n",
       "...                                                     ...   \n",
       "swimMovementFP_ds9_nm_80_cli74_vec                 1.383745   \n",
       "swimMovementFP_ds9_nm_80_cli76_vec                 2.946150   \n",
       "swimMovementFP_ds9_nm_80_cli77_vec                 4.726777   \n",
       "swimMovementFP_ds9_nm_80_cli78_vec                 2.436424   \n",
       "swimMovementFP_ds9_nm_80_cli8_vec                  4.284693   \n",
       "\n",
       "                                      sem_UE Throughput DL       QoE  \n",
       "swimMovementFP_ds0_nm_160_cli0_vec                0.061428  2.238775  \n",
       "swimMovementFP_ds0_nm_160_cli101_vec              0.016517  1.783500  \n",
       "swimMovementFP_ds0_nm_160_cli102_vec              0.020604  1.785385  \n",
       "swimMovementFP_ds0_nm_160_cli104_vec              0.109406  3.732687  \n",
       "swimMovementFP_ds0_nm_160_cli105_vec              0.079896  3.349598  \n",
       "...                                                    ...       ...  \n",
       "swimMovementFP_ds9_nm_80_cli74_vec                0.232875  4.613179  \n",
       "swimMovementFP_ds9_nm_80_cli76_vec                0.159657  3.373244  \n",
       "swimMovementFP_ds9_nm_80_cli77_vec                0.076159  2.391311  \n",
       "swimMovementFP_ds9_nm_80_cli78_vec                0.138687  4.105616  \n",
       "swimMovementFP_ds9_nm_80_cli8_vec                 0.097108  3.143301  \n",
       "\n",
       "[10678 rows x 13 columns]"
      ]
     },
     "execution_count": 7,
     "metadata": {},
     "output_type": "execute_result"
    }
   ],
   "source": [
    "# select the data related to UE DL Throughput\n",
    "mat_UE_DL_TP=mat_over25[mat_over25.filter(regex='UE Throughput DL').columns]\n",
    "mat2=mat_UE_DL_TP.join(mat_over25['QoE'], how='outer')\n",
    "mat2"
   ]
  },
  {
   "cell_type": "code",
   "execution_count": 8,
   "metadata": {},
   "outputs": [],
   "source": [
    "mat2.to_pickle('QoE_10678_over25segs_UEDLTP.pkl')"
   ]
  },
  {
   "cell_type": "code",
   "execution_count": null,
   "metadata": {},
   "outputs": [],
   "source": [
    "mat=mat.fillna(0)\n",
    "X=mat.iloc[:,:-1]\n",
    "\n",
    "Y=mat['QoE']\n",
    "#drop columns which have same values in all rows\n",
    "# X=X.drop(X.std()[(X.std() == 0)].index, axis=1)\n",
    "maxnum_feature=X.shape[1]\n",
    "X"
   ]
  },
  {
   "cell_type": "markdown",
   "metadata": {},
   "source": [
    "### Lasso Regression\n",
    "Linear Model trained with L1 prior as regularizer (aka the Lasso)"
   ]
  },
  {
   "cell_type": "code",
   "execution_count": 35,
   "metadata": {},
   "outputs": [
    {
     "name": "stdout",
     "output_type": "stream",
     "text": [
      "Fitting 5 folds for each of 14 candidates, totalling 70 fits\n"
     ]
    },
    {
     "name": "stderr",
     "output_type": "stream",
     "text": [
      "[Parallel(n_jobs=-1)]: Using backend LokyBackend with 4 concurrent workers.\n",
      "[Parallel(n_jobs=-1)]: Done  24 tasks      | elapsed:   15.0s\n",
      "[Parallel(n_jobs=-1)]: Done  70 out of  70 | elapsed:   22.4s finished\n"
     ]
    },
    {
     "name": "stdout",
     "output_type": "stream",
     "text": [
      "Total CPUs utilized percentage : 50.7 %\n",
      "the duration of training is: 23.770852088928223\n",
      "Percentage of used RAM : 64.0 %\n"
     ]
    }
   ],
   "source": [
    "X_train, X_test, Y_train, Y_test = train_test_split(X, Y, test_size=0.2,random_state=17)\n",
    "\n",
    "pipe_Lasso=Pipeline([('scale', StandardScaler()),('clf', Lasso())])\n",
    "# alphas=[1e-9, 0.0001, 0.0003, 0.0005,0.00055,0.0006,0.00065,0.0007, 0.0008,0.0009,0.001, 0.003, 0.005, 0.007, 0.01, 0.03, 0.05, 0.07, 0.08, 0.09, 0.1]\n",
    "alphas=[0.0001,0.0002,0.0003,0.0005,0.0007,0.001,0.005,0.01, 0.03, 0.05, 0.07, 0.08, 0.09, 0.1]\n",
    "Lasso_params={'clf__alpha': alphas}\n",
    "cv_Lasso = GridSearchCV(pipe_Lasso, param_grid=Lasso_params, cv=5, scoring='neg_mean_squared_error',n_jobs=-1, verbose=3,return_train_score=True)\n",
    "start=time.time()\n",
    "cv_Lasso.fit(X_train, Y_train)\n",
    "#save the model\n",
    "joblib.dump(cv_Lasso,'model_CQM_Lasso_MSE.joblib')\n",
    "\n",
    "vcpu=psutil.cpu_percent()\n",
    "print ('Total CPUs utilized percentage :',vcpu,'%')\n",
    "finish=time.time()\n",
    "print('the duration of training is:',finish-start)\n",
    "\n",
    "print('Percentage of used RAM :',psutil.virtual_memory().percent,'%')"
   ]
  },
  {
   "cell_type": "code",
   "execution_count": 35,
   "metadata": {},
   "outputs": [
    {
     "name": "stdout",
     "output_type": "stream",
     "text": [
      "Best parameters: {'clf__alpha': 0.0005}\n"
     ]
    }
   ],
   "source": [
    "cv_Lasso=joblib.load('model_cv_Lasso_MSE.joblib')\n",
    "print('Best parameters: {}'.format(cv_Lasso.best_params_))"
   ]
  },
  {
   "cell_type": "code",
   "execution_count": 37,
   "metadata": {},
   "outputs": [
    {
     "name": "stdout",
     "output_type": "stream",
     "text": [
      "All:  0.06698094205764775\n",
      "stationary:  0.08492378969654446\n",
      "moving:  0.061750033213360415\n",
      "pedestrians:  0.05435027170676903\n",
      "vehicles:  0.06857703737913913\n"
     ]
    }
   ],
   "source": [
    "#Get the MSE score for different type in the test dataset by applying the same model\n",
    "print('All: ',mean_squared_error(Y_test,cv_Lasso.predict(X_test)))\n",
    "print('stationary: ',mean_squared_error(Y_stationary,cv_Lasso.predict(X_stationary)))\n",
    "print('moving: ',mean_squared_error(Y_moving,cv_Lasso.predict(X_moving)))\n",
    "print('pedestrians: ',mean_squared_error(Y_pedestrians,cv_Lasso.predict(X_pedestrians)))\n",
    "print('vehicles: ',mean_squared_error(Y_vehicles,cv_Lasso.predict(X_vehicles)))"
   ]
  },
  {
   "cell_type": "code",
   "execution_count": 36,
   "metadata": {},
   "outputs": [
    {
     "name": "stdout",
     "output_type": "stream",
     "text": [
      "Best validation score: -0.06912046216715706\n",
      "Best parameters: {'clf__alpha': 0.0003}\n",
      "Test score:  0.06698094205764775\n",
      "Total CPUs utilized percentage : 4.7 %\n",
      "the duration of test is: 0.00956583023071289\n",
      "Percentage of used RAM : 64.2 %\n",
      "The training score of the best estimator:  -0.06767183632770972\n"
     ]
    }
   ],
   "source": [
    "print('Best validation score: {}'.format(cv_Lasso.best_score_))\n",
    "print('Best parameters: {}'.format(cv_Lasso.best_params_))\n",
    "start=time.time()\n",
    "print('Test score: ',mean_squared_error(Y_test,cv_Lasso.predict(X_test)))\n",
    "vcpu=psutil.cpu_percent()\n",
    "print ('Total CPUs utilized percentage :',vcpu,'%')\n",
    "finish=time.time()\n",
    "print('the duration of test is:',finish-start)\n",
    "print('Percentage of used RAM :',psutil.virtual_memory().percent,'%')\n",
    "\n",
    "train_scores_mean = cv_Lasso.cv_results_[\"mean_train_score\"]\n",
    "test_scores_mean = cv_Lasso.cv_results_[\"mean_test_score\"]\n",
    "print('The training score of the best estimator: ',train_scores_mean[np.argmax(test_scores_mean)])"
   ]
  },
  {
   "cell_type": "code",
   "execution_count": null,
   "metadata": {},
   "outputs": [],
   "source": [
    "####Dataset is 4788\n",
    "print('Best validation score: {}'.format(cv_Lasso.best_score_))\n",
    "print('Best parameters: {}'.format(cv_Lasso.best_params_))\n",
    "print('Test score: ',r2_score(Y_test,cv_Lasso.predict(X_test)))\n",
    "\n",
    "train_scores_mean = cv_Lasso.cv_results_[\"mean_train_score\"]\n",
    "train_scores_std = cv_Lasso.cv_results_[\"std_train_score\"]\n",
    "test_scores_mean = cv_Lasso.cv_results_[\"mean_test_score\"]\n",
    "test_scores_std = cv_Lasso.cv_results_[\"std_test_score\"]\n",
    "print('The training score of the best estimator: ',train_scores_mean[np.argmax(test_scores_mean)])\n",
    "\n",
    "plt.figure(figsize=(10,7))\n",
    "# Set plot style\n",
    "plt.style.use('seaborn')\n",
    "plt.title('Validation Curve(Lasso Regression)')\n",
    "plt.xlabel('$\\\\alpha$ (alpha)')\n",
    "plt.ylabel('R2')\n",
    "# plot train scores\n",
    "plt.semilogx(alphas, train_scores_mean, label='Mean Training score',\n",
    "             color='navy')\n",
    "# create a shaded area between [mean - std, mean + std]\n",
    "plt.gca().fill_between(alphas,\n",
    "                       train_scores_mean - train_scores_std,\n",
    "                       train_scores_mean + train_scores_std,\n",
    "                       alpha=0.2,\n",
    "                       color='navy')\n",
    "plt.semilogx(alphas, test_scores_mean,\n",
    "             label='Mean Validation score', color='darkorange')\n",
    "\n",
    "# create a shaded area between [mean - std, mean + std]\n",
    "plt.gca().fill_between(alphas,\n",
    "                       test_scores_mean - test_scores_std,\n",
    "                       test_scores_mean + test_scores_std,\n",
    "                       alpha=0.2,\n",
    "                       color='darkorange')\n",
    "\n",
    "plt.legend(loc='best')\n",
    "plt.show()"
   ]
  },
  {
   "cell_type": "code",
   "execution_count": null,
   "metadata": {},
   "outputs": [],
   "source": [
    "#cv_Lasso.named_steps['clf'].coef_\n",
    "coefs = pd.DataFrame(cv_Lasso.best_estimator_.steps[1][1].coef_, index=X_train.columns,columns=['value'])\n",
    "print(\"Lasso picked \", np.sum(coefs != 0).value ,\" features and eliminated the other \" , np.sum(coefs == 0).value, \" features\")\n",
    "imp_coefs=coefs[coefs!=0].dropna().sort_values(by='value')\n",
    "imp_coefs.plot(kind=\"barh\",figsize=(7,12))\n",
    "plt.show()\n",
    "# cv_Lasso.best_estimator_.steps[1][1].coef_[cv_Lasso.best_estimator_.steps[1][1].coef_!=0]"
   ]
  },
  {
   "cell_type": "markdown",
   "metadata": {},
   "source": [
    "### Linear Ridge Regression \n",
    "Linear least squares with l2 regularization."
   ]
  },
  {
   "cell_type": "code",
   "execution_count": 44,
   "metadata": {},
   "outputs": [
    {
     "name": "stdout",
     "output_type": "stream",
     "text": [
      "Fitting 5 folds for each of 11 candidates, totalling 55 fits\n"
     ]
    },
    {
     "name": "stderr",
     "output_type": "stream",
     "text": [
      "[Parallel(n_jobs=-1)]: Using backend LokyBackend with 4 concurrent workers.\n",
      "[Parallel(n_jobs=-1)]: Done  24 tasks      | elapsed:    2.0s\n"
     ]
    },
    {
     "name": "stdout",
     "output_type": "stream",
     "text": [
      "Total CPUs utilized percentage : 36.9 %\n",
      "the duration of training is: 4.0333569049835205\n",
      "Percentage of used RAM : 66.7 %\n",
      "CPU times: user 1.01 s, sys: 93.8 ms, total: 1.11 s\n",
      "Wall time: 4.05 s\n"
     ]
    },
    {
     "name": "stderr",
     "output_type": "stream",
     "text": [
      "[Parallel(n_jobs=-1)]: Done  55 out of  55 | elapsed:    3.8s finished\n"
     ]
    }
   ],
   "source": [
    "%%time\n",
    "\n",
    "X_train, X_test, Y_train, Y_test = train_test_split(X, Y, test_size=0.2,random_state=17)\n",
    "\n",
    "pipe_LRR = Pipeline([('scale', StandardScaler()),('clf', Ridge())])\n",
    "\n",
    "# alphas=[1e-9,1e-8,1e-7,1e-6,1e-5,1e-4, 0.0003, 0.0005, 0.0007, 0.001, 0.003, 0.005, 0.007, 0.01, 0.03, 0.05, 0.07, 0.08, 0.09, 0.1, 0.3, 0.5, 0.7,1,5,7,10,100,500] \n",
    "alphas=[1e-4, 0.0003, 0.0005, 0.0007,0.001, 0.003, 0.005, 0.007,0.01,0.1,70] \n",
    "\n",
    "LRR_params ={'clf__alpha': alphas}\n",
    "\n",
    "cv_LRR = GridSearchCV(pipe_LRR, param_grid=LRR_params, cv=5, scoring='neg_mean_squared_error',n_jobs=-1, verbose=3,return_train_score=True)\n",
    "start=time.time()\n",
    "cv_LRR.fit(X_train, Y_train)\n",
    "#save the model\n",
    "joblib.dump(cv_LRR,'model_CQM_LRR_MSE.joblib')\n",
    "\n",
    "vcpu=psutil.cpu_percent()\n",
    "print ('Total CPUs utilized percentage :',vcpu,'%')\n",
    "finish=time.time()\n",
    "print('the duration of training is:',finish-start)\n",
    "\n",
    "print('Percentage of used RAM :',psutil.virtual_memory().percent,'%')"
   ]
  },
  {
   "cell_type": "code",
   "execution_count": 46,
   "metadata": {},
   "outputs": [
    {
     "name": "stdout",
     "output_type": "stream",
     "text": [
      "All:  0.06312404837660893\n",
      "stationary:  0.0789270533337478\n",
      "moving:  0.058516971503403244\n",
      "pedestrians:  0.05161448534543975\n",
      "vehicles:  0.06488519049433575\n"
     ]
    }
   ],
   "source": [
    "#Get the MSE score for different type in the test dataset by applying the same model\n",
    "print('All: ',mean_squared_error(Y_test,cv_LRR.predict(X_test)))\n",
    "print('stationary: ',mean_squared_error(Y_stationary,cv_LRR.predict(X_stationary)))\n",
    "print('moving: ',mean_squared_error(Y_moving,cv_LRR.predict(X_moving)))\n",
    "print('pedestrians: ',mean_squared_error(Y_pedestrians,cv_LRR.predict(X_pedestrians)))\n",
    "print('vehicles: ',mean_squared_error(Y_vehicles,cv_LRR.predict(X_vehicles)))"
   ]
  },
  {
   "cell_type": "code",
   "execution_count": 37,
   "metadata": {},
   "outputs": [
    {
     "name": "stdout",
     "output_type": "stream",
     "text": [
      "Best parameters: {'clf__alpha': 0.0001}\n"
     ]
    }
   ],
   "source": [
    "cv_LRR=joblib.load('model_CQM_LRR_MSE.joblib')\n",
    "print('Best parameters: {}'.format(cv_LRR.best_params_))"
   ]
  },
  {
   "cell_type": "code",
   "execution_count": 45,
   "metadata": {},
   "outputs": [
    {
     "name": "stdout",
     "output_type": "stream",
     "text": [
      "Best validation score: -0.06558946784201304\n",
      "Best parameters: {'clf__alpha': 0.0001}\n",
      "Test score:  0.06312404837660893\n",
      "Total CPUs utilized percentage : 24.7 %\n",
      "the duration of test is: 0.007996320724487305\n",
      "Percentage of used RAM : 66.3 %\n",
      "The training score of the best estimator:  -0.06378445681296452\n"
     ]
    }
   ],
   "source": [
    "print('Best validation score: {}'.format(cv_LRR.best_score_))\n",
    "print('Best parameters: {}'.format(cv_LRR.best_params_))\n",
    "start=time.time()\n",
    "print('Test score: ',mean_squared_error(Y_test,cv_LRR.predict(X_test)))\n",
    "vcpu=psutil.cpu_percent()\n",
    "print ('Total CPUs utilized percentage :',vcpu,'%')\n",
    "finish=time.time()\n",
    "print('the duration of test is:',finish-start)\n",
    "print('Percentage of used RAM :',psutil.virtual_memory().percent,'%')\n",
    "\n",
    "train_scores_mean = cv_LRR.cv_results_[\"mean_train_score\"]\n",
    "test_scores_mean = cv_LRR.cv_results_[\"mean_test_score\"]\n",
    "print('The training score of the best estimator: ',train_scores_mean[np.argmax(test_scores_mean)])\n"
   ]
  },
  {
   "cell_type": "code",
   "execution_count": null,
   "metadata": {},
   "outputs": [],
   "source": [
    "print('Best validation score: {}'.format(cv_LRR.best_score_))\n",
    "print('Best parameters: {}'.format(cv_LRR.best_params_))\n",
    "print('Test score: ',r2_score(Y_test,cv_LRR.predict(X_test)))\n",
    "\n",
    "train_scores_mean = cv_LRR.cv_results_[\"mean_train_score\"]\n",
    "train_scores_std = cv_LRR.cv_results_[\"std_train_score\"]\n",
    "test_scores_mean = cv_LRR.cv_results_[\"mean_test_score\"]\n",
    "test_scores_std = cv_LRR.cv_results_[\"std_test_score\"]\n",
    "\n",
    "plt.figure(figsize=(10,7))\n",
    "# Set plot style\n",
    "plt.style.use('seaborn')\n",
    "plt.title('Validation Curve(Linear Ridge Regression)')\n",
    "plt.xlabel('$\\\\alpha$ (alpha)')\n",
    "plt.ylabel('R2')\n",
    "# plot train scores\n",
    "plt.semilogx(alphas, train_scores_mean, label='Mean Training score',\n",
    "             color='navy')\n",
    "# create a shaded area between [mean - std, mean + std]\n",
    "plt.gca().fill_between(alphas,\n",
    "                       train_scores_mean - train_scores_std,\n",
    "                       train_scores_mean + train_scores_std,\n",
    "                       alpha=0.2,\n",
    "                       color='navy')\n",
    "plt.semilogx(alphas, test_scores_mean,\n",
    "             label='Mean Validation score', color='darkorange')\n",
    "\n",
    "# create a shaded area between [mean - std, mean + std]\n",
    "plt.gca().fill_between(alphas,\n",
    "                       test_scores_mean - test_scores_std,\n",
    "                       test_scores_mean + test_scores_std,\n",
    "                       alpha=0.2,\n",
    "                       color='darkorange')\n",
    "\n",
    "plt.legend(loc='best')\n",
    "plt.show()"
   ]
  },
  {
   "cell_type": "markdown",
   "metadata": {},
   "source": [
    "## Kernel Ridge Regression"
   ]
  },
  {
   "cell_type": "markdown",
   "metadata": {},
   "source": [
    "#### RBF Kernel"
   ]
  },
  {
   "cell_type": "code",
   "execution_count": 52,
   "metadata": {},
   "outputs": [
    {
     "name": "stdout",
     "output_type": "stream",
     "text": [
      "Fitting 5 folds for each of 10 candidates, totalling 50 fits\n"
     ]
    },
    {
     "name": "stderr",
     "output_type": "stream",
     "text": [
      "[Parallel(n_jobs=-1)]: Using backend LokyBackend with 4 concurrent workers.\n",
      "[Parallel(n_jobs=-1)]: Done  24 tasks      | elapsed:  4.1min\n",
      "[Parallel(n_jobs=-1)]: Done  50 out of  50 | elapsed:  7.6min finished\n"
     ]
    },
    {
     "name": "stdout",
     "output_type": "stream",
     "text": [
      "Total CPUs utilized percentage : 92.8 %\n",
      "the duration of test is: 472.01826095581055\n",
      "Percentage of used RAM : 28.7 %\n",
      "CPU times: user 21 s, sys: 1.75 s, total: 22.8 s\n",
      "Wall time: 7min 52s\n"
     ]
    }
   ],
   "source": [
    "%%time\n",
    "X_train, X_test, Y_train, Y_test = train_test_split(X, Y, test_size=0.2,random_state=17)\n",
    "\n",
    "pipe = Pipeline([\n",
    "    ('scale', StandardScaler()),\n",
    "    ('clf', KernelRidge())\n",
    "])\n",
    "\n",
    "param_grid = [\n",
    "    {\n",
    "        'clf__kernel': ['rbf'],\n",
    "#         'clf__alpha': [0, 0.0001, 0.0003, 0.0005, 0.0007, 0.001, 0.003, 0.005, 0.007, 0.01, 0.03, 0.05, 0.07, 0.08, 0.09, 0.1, 0.3, 0.5, 0.7, 1, 3, 5, 10]\n",
    "        'clf__alpha': [0.01, 0.03, 0.05, 0.07,0.1, 0.2,0.5, 0.7, 1,10]\n",
    "\n",
    "    },\n",
    "]\n",
    "\n",
    "\n",
    "#scoring=neg_mean_squared_error\n",
    "cv_krr = GridSearchCV(pipe, param_grid=param_grid, cv=5, scoring='neg_mean_squared_error',n_jobs=-1, verbose=3,return_train_score=True)\n",
    "start=time.time()\n",
    "cv_krr.fit(X_train, Y_train)\n",
    "#save the model\n",
    "joblib.dump(cv_krr,'model_CQM_krr_MSE.joblib')\n",
    "\n",
    "vcpu=psutil.cpu_percent()\n",
    "print ('Total CPUs utilized percentage :',vcpu,'%')\n",
    "finish=time.time()\n",
    "print('the duration of test is:',finish-start)\n",
    "print('Percentage of used RAM :',psutil.virtual_memory().percent,'%')"
   ]
  },
  {
   "cell_type": "code",
   "execution_count": 54,
   "metadata": {},
   "outputs": [
    {
     "name": "stdout",
     "output_type": "stream",
     "text": [
      "All:  0.05765112427975837\n",
      "stationary:  0.07485071559042569\n",
      "moving:  0.05263689821510291\n",
      "pedestrians:  0.04486412397369146\n",
      "vehicles:  0.05980804313355823\n"
     ]
    }
   ],
   "source": [
    "#Get the MSE score for different type in the test dataset by applying the same model\n",
    "print('All: ',mean_squared_error(Y_test,cv_krr.predict(X_test)))\n",
    "print('stationary: ',mean_squared_error(Y_stationary,cv_krr.predict(X_stationary)))\n",
    "print('moving: ',mean_squared_error(Y_moving,cv_krr.predict(X_moving)))\n",
    "print('pedestrians: ',mean_squared_error(Y_pedestrians,cv_krr.predict(X_pedestrians)))\n",
    "print('vehicles: ',mean_squared_error(Y_vehicles,cv_krr.predict(X_vehicles)))"
   ]
  },
  {
   "cell_type": "code",
   "execution_count": 40,
   "metadata": {},
   "outputs": [
    {
     "name": "stdout",
     "output_type": "stream",
     "text": [
      "Best parameters: {'clf__alpha': 0.03, 'clf__kernel': 'rbf'}\n"
     ]
    }
   ],
   "source": [
    "cv_krr=joblib.load('model_cv_krr_MSE.joblib')\n",
    "print('Best parameters: {}'.format(cv_krr.best_params_))"
   ]
  },
  {
   "cell_type": "code",
   "execution_count": 53,
   "metadata": {},
   "outputs": [
    {
     "name": "stdout",
     "output_type": "stream",
     "text": [
      "Best validation score: -0.06443499825540126\n",
      "Best parameters: {'clf__alpha': 0.07, 'clf__kernel': 'rbf'}\n",
      "Test score:  0.05765112427975837\n",
      "Total CPUs utilized percentage : 5.8 %\n",
      "the duration of test is: 0.7514591217041016\n",
      "Percentage of used RAM : 38.1 %\n",
      "The training score of the best estimator:  -0.0339930702108747\n"
     ]
    }
   ],
   "source": [
    "print('Best validation score: {}'.format(cv_krr.best_score_))\n",
    "print('Best parameters: {}'.format(cv_krr.best_params_))\n",
    "start=time.time()\n",
    "print('Test score: ',mean_squared_error(Y_test,cv_krr.predict(X_test)))\n",
    "vcpu=psutil.cpu_percent()\n",
    "print ('Total CPUs utilized percentage :',vcpu,'%')\n",
    "finish=time.time()\n",
    "print('the duration of test is:',finish-start)\n",
    "print('Percentage of used RAM :',psutil.virtual_memory().percent,'%')\n",
    "\n",
    "train_scores_mean = cv_krr.cv_results_[\"mean_train_score\"]\n",
    "test_scores_mean = cv_krr.cv_results_[\"mean_test_score\"]\n",
    "print('The training score of the best estimator: ',train_scores_mean[np.argmax(test_scores_mean)])"
   ]
  },
  {
   "cell_type": "code",
   "execution_count": null,
   "metadata": {},
   "outputs": [],
   "source": [
    "print('Best score: {}'.format(cv_krr.best_score_))\n",
    "print('Best parameters: {}'.format(cv_krr.best_params_))\n",
    "\n",
    "alphas=[0, 0.0001, 0.0003, 0.0005, 0.0007, 0.001, 0.003, 0.005, 0.007, 0.01, 0.03, 0.05, 0.07, 0.08, 0.09, 0.1, 0.3, 0.5, 0.7, 1, 3, 5, 10]\n",
    "train_scores_mean = cv_krr.cv_results_[\"mean_train_score\"]\n",
    "train_scores_std = cv_krr.cv_results_[\"std_train_score\"]\n",
    "test_scores_mean = cv_krr.cv_results_[\"mean_test_score\"]\n",
    "test_scores_std = cv_krr.cv_results_[\"std_test_score\"]\n",
    "\n",
    "plt.figure(figsize=(10,7))\n",
    "# Set plot style\n",
    "plt.style.use('seaborn')\n",
    "plt.title('Validation Curve(RBF Kernel)')\n",
    "plt.xlabel('$\\\\alpha$ (alpha)')\n",
    "plt.ylabel('R2')\n",
    "# plot train scores\n",
    "plt.semilogx(alphas, train_scores_mean, label='Mean Training score',\n",
    "             color='navy')\n",
    "# create a shaded area between [mean - std, mean + std]\n",
    "plt.gca().fill_between(alphas,\n",
    "                       train_scores_mean - train_scores_std,\n",
    "                       train_scores_mean + train_scores_std,\n",
    "                       alpha=0.2,\n",
    "                       color='navy')\n",
    "plt.semilogx(alphas, test_scores_mean,\n",
    "             label='Mean Validation score', color='darkorange')\n",
    "\n",
    "# create a shaded area between [mean - std, mean + std]\n",
    "plt.gca().fill_between(alphas,\n",
    "                       test_scores_mean - test_scores_std,\n",
    "                       test_scores_mean + test_scores_std,\n",
    "                       alpha=0.2,\n",
    "                       color='darkorange')\n",
    "\n",
    "\n",
    "plt.legend(loc='best')\n",
    "plt.show()"
   ]
  },
  {
   "cell_type": "markdown",
   "metadata": {},
   "source": [
    "#### KRR with Linear Kernel"
   ]
  },
  {
   "cell_type": "code",
   "execution_count": null,
   "metadata": {},
   "outputs": [],
   "source": [
    "%%time\n",
    "X_train, X_test, Y_train, Y_test = train_test_split(X, Y, test_size=0.2,random_state=17)\n",
    "\n",
    "pipe = Pipeline([\n",
    "    ('scale', StandardScaler()),\n",
    "    ('clf', KernelRidge())\n",
    "])\n",
    "\n",
    "param_grid = [\n",
    "    {\n",
    "        'clf__kernel': ['linear'],\n",
    "        'clf__alpha': [0, 0.0001, 0.0003, 0.0005, 0.0007, 0.001, 0.003, 0.005, 0.007, 0.01, 0.03, 0.05, 0.07, 0.08, 0.09, 0.1, 0.3, 0.5, 0.7, 1, 3, 5, 10]\n",
    "    },\n",
    "]\n",
    "\n",
    "\n",
    "cv_krr = GridSearchCV(pipe, param_grid=param_grid, cv=5, scoring='neg_mean_squared_error',n_jobs=-1, verbose=3,return_train_score=True)\n",
    "cv_krr.fit(X_train, Y_train)\n"
   ]
  },
  {
   "cell_type": "code",
   "execution_count": null,
   "metadata": {},
   "outputs": [],
   "source": [
    "print('Best validation score: {}'.format(cv_krr.best_score_))\n",
    "print('Best parameters: {}'.format(cv_krr.best_params_))\n",
    "print('Test score: ',mean_squared_error(Y_test,cv_krr.predict(X_test)))\n",
    "\n",
    "alphas=[0, 0.0001, 0.0003, 0.0005, 0.0007, 0.001, 0.003, 0.005, 0.007, 0.01, 0.03, 0.05, 0.07, 0.08, 0.09, 0.1, 0.3, 0.5, 0.7, 1, 3, 5, 10]\n",
    "train_scores_mean = cv_krr.cv_results_[\"mean_train_score\"]\n",
    "train_scores_std = cv_krr.cv_results_[\"std_train_score\"]\n",
    "test_scores_mean = cv_krr.cv_results_[\"mean_test_score\"]\n",
    "test_scores_std = cv_krr.cv_results_[\"std_test_score\"]\n",
    "\n",
    "plt.figure(figsize=(10,7))\n",
    "# Set plot style\n",
    "plt.style.use('seaborn')\n",
    "plt.title('Validation Curve(Linear Kernel)')\n",
    "plt.xlabel('$\\\\alpha$ (alpha)')\n",
    "plt.ylabel('R2')\n",
    "# plot train scores\n",
    "plt.semilogx(alphas, train_scores_mean, label='Mean Training score',\n",
    "             color='navy')\n",
    "# create a shaded area between [mean - std, mean + std]\n",
    "plt.gca().fill_between(alphas,\n",
    "                       train_scores_mean - train_scores_std,\n",
    "                       train_scores_mean + train_scores_std,\n",
    "                       alpha=0.2,\n",
    "                       color='navy')\n",
    "plt.semilogx(alphas, test_scores_mean,\n",
    "             label='Mean Validation score', color='darkorange')\n",
    "\n",
    "# create a shaded area between [mean - std, mean + std]\n",
    "plt.gca().fill_between(alphas,\n",
    "                       test_scores_mean - test_scores_std,\n",
    "                       test_scores_mean + test_scores_std,\n",
    "                       alpha=0.2,\n",
    "                       color='darkorange')\n",
    "\n",
    "plt.legend(loc='best')\n",
    "plt.show()"
   ]
  },
  {
   "cell_type": "markdown",
   "metadata": {},
   "source": [
    "## Support Vector Regression"
   ]
  },
  {
   "cell_type": "code",
   "execution_count": 127,
   "metadata": {},
   "outputs": [
    {
     "name": "stdout",
     "output_type": "stream",
     "text": [
      "Fitting 5 folds for each of 48 candidates, totalling 240 fits\n"
     ]
    },
    {
     "name": "stderr",
     "output_type": "stream",
     "text": [
      "[Parallel(n_jobs=-1)]: Using backend LokyBackend with 4 concurrent workers.\n",
      "[Parallel(n_jobs=-1)]: Done  24 tasks      | elapsed:  1.4min\n",
      "[Parallel(n_jobs=-1)]: Done 120 tasks      | elapsed:  7.6min\n",
      "[Parallel(n_jobs=-1)]: Done 240 out of 240 | elapsed: 16.8min finished\n"
     ]
    },
    {
     "name": "stdout",
     "output_type": "stream",
     "text": [
      "Total CPUs utilized percentage : 72.6 %\n",
      "the duration of training is: 1015.9654810428619\n",
      "Percentage of used RAM : 68.9 %\n",
      "CPU times: user 11.6 s, sys: 555 ms, total: 12.2 s\n",
      "Wall time: 16min 55s\n"
     ]
    }
   ],
   "source": [
    "%%time\n",
    "X_train, X_test, Y_train, Y_test = train_test_split(X, Y, test_size=0.2,random_state=17)\n",
    "\n",
    "pipe_SVR = Pipeline([('scale', StandardScaler()),('clf', SVR())])\n",
    "\n",
    "SVR_params = [\n",
    "    {\n",
    "#         'clf__C': np.linspace(0.1,5, num=20),\n",
    "#         'clf__gamma': [0.003,0.04,0.005,0.06,0.007,0.01],\n",
    "        'clf__C': np.linspace(0.4,8, num=12),\n",
    "        'clf__gamma': [0.03,0.02,0.01,0.001],\n",
    "        'clf__kernel': ['rbf']\n",
    "    },\n",
    "]\n",
    "cv_SVR = GridSearchCV(pipe_SVR, param_grid=SVR_params, cv=5, scoring='neg_mean_squared_error',n_jobs=-1, verbose=3,return_train_score=True)\n",
    "start=time.time()\n",
    "cv_SVR.fit(X_train, Y_train)\n",
    "#save the model\n",
    "# joblib.dump(cv_SVR,'model_CQM_SVR_MSE.joblib')\n",
    "\n",
    "vcpu=psutil.cpu_percent()\n",
    "print ('Total CPUs utilized percentage :',vcpu,'%')\n",
    "finish=time.time()\n",
    "print('the duration of training is:',finish-start)\n",
    "print('Percentage of used RAM :',psutil.virtual_memory().percent,'%')"
   ]
  },
  {
   "cell_type": "code",
   "execution_count": 63,
   "metadata": {},
   "outputs": [
    {
     "name": "stdout",
     "output_type": "stream",
     "text": [
      "All:  0.05477098297547724\n",
      "stationary:  0.06335801464864224\n",
      "moving:  0.05226759104854807\n",
      "pedestrians:  0.04390564385601982\n",
      "vehicles:  0.05998230567368311\n"
     ]
    }
   ],
   "source": [
    "#Get the MSE score for different type in the test dataset by applying the same model\n",
    "print('All: ',mean_squared_error(Y_test,cv_SVR.predict(X_test)))\n",
    "print('stationary: ',mean_squared_error(Y_stationary,cv_SVR.predict(X_stationary)))\n",
    "print('moving: ',mean_squared_error(Y_moving,cv_SVR.predict(X_moving)))\n",
    "print('pedestrians: ',mean_squared_error(Y_pedestrians,cv_SVR.predict(X_pedestrians)))\n",
    "print('vehicles: ',mean_squared_error(Y_vehicles,cv_SVR.predict(X_vehicles)))"
   ]
  },
  {
   "cell_type": "code",
   "execution_count": 126,
   "metadata": {},
   "outputs": [
    {
     "data": {
      "text/plain": [
       "array([0.4       , 0.74545455, 1.09090909, 1.43636364, 1.78181818,\n",
       "       2.12727273, 2.47272727, 2.81818182, 3.16363636, 3.50909091,\n",
       "       3.85454545, 4.2       , 4.54545455, 4.89090909, 5.23636364,\n",
       "       5.58181818, 5.92727273, 6.27272727, 6.61818182, 6.96363636,\n",
       "       7.30909091, 7.65454545, 8.        ])"
      ]
     },
     "execution_count": 126,
     "metadata": {},
     "output_type": "execute_result"
    }
   ],
   "source": [
    "np.linspace(0.4,8, num=23)\n",
    "# np.linspace(1,12, num=10)"
   ]
  },
  {
   "cell_type": "code",
   "execution_count": 130,
   "metadata": {},
   "outputs": [
    {
     "name": "stdout",
     "output_type": "stream",
     "text": [
      "Best parameters: {'clf__C': 5.0, 'clf__gamma': 0.005, 'clf__kernel': 'rbf'}\n",
      "Best validation score: -0.05545148822753737\n"
     ]
    }
   ],
   "source": [
    "cv_SVR=joblib.load('model_CQM_SVR_MSE.joblib')\n",
    "print('Best parameters: {}'.format(cv_SVR.best_params_))\n",
    "print('Best validation score: {}'.format(cv_SVR.best_score_))"
   ]
  },
  {
   "cell_type": "code",
   "execution_count": 128,
   "metadata": {},
   "outputs": [
    {
     "name": "stdout",
     "output_type": "stream",
     "text": [
      "Best validation score: -0.029161304753627888\n",
      "Best parameters: {'clf__C': 3.8545454545454545, 'clf__gamma': 0.01, 'clf__kernel': 'rbf'}\n",
      "Test score:  0.02541261964961932\n",
      "Total CPUs utilized percentage : 10.4 %\n",
      "the duration of test is: 1.2580900192260742\n",
      "Percentage of used RAM : 73.1 %\n",
      "The training score of the best estimator:  -0.016991553905850124\n"
     ]
    }
   ],
   "source": [
    "print('Best validation score: {}'.format(cv_SVR.best_score_))\n",
    "print('Best parameters: {}'.format(cv_SVR.best_params_))\n",
    "start=time.time()\n",
    "print('Test score: ',mean_squared_error(Y_test,cv_SVR.predict(X_test)))\n",
    "vcpu=psutil.cpu_percent()\n",
    "print ('Total CPUs utilized percentage :',vcpu,'%')\n",
    "finish=time.time()\n",
    "print('the duration of test is:',finish-start)\n",
    "print('Percentage of used RAM :',psutil.virtual_memory().percent,'%')\n",
    "\n",
    "train_scores_mean = cv_SVR.cv_results_[\"mean_train_score\"]\n",
    "test_scores_mean = cv_SVR.cv_results_[\"mean_test_score\"]\n",
    "print('The training score of the best estimator: ',train_scores_mean[np.argmax(test_scores_mean)])"
   ]
  },
  {
   "cell_type": "code",
   "execution_count": 62,
   "metadata": {},
   "outputs": [
    {
     "name": "stdout",
     "output_type": "stream",
     "text": [
      "Best validation score: -0.05545148822753737\n",
      "Best parameters: {'clf__C': 5.0, 'clf__gamma': 0.005, 'clf__kernel': 'rbf'}\n",
      "Test score:  0.05477098297547724\n",
      "Total CPUs utilized percentage : 4.0 %\n",
      "the duration of test is: 1.5488080978393555\n",
      "Percentage of used RAM : 59.1 %\n",
      "The training score of the best estimator:  -0.044610899839142806\n"
     ]
    }
   ],
   "source": [
    "print('Best validation score: {}'.format(cv_SVR.best_score_))\n",
    "print('Best parameters: {}'.format(cv_SVR.best_params_))\n",
    "start=time.time()\n",
    "print('Test score: ',mean_squared_error(Y_test,cv_SVR.predict(X_test)))\n",
    "vcpu=psutil.cpu_percent()\n",
    "print ('Total CPUs utilized percentage :',vcpu,'%')\n",
    "finish=time.time()\n",
    "print('the duration of test is:',finish-start)\n",
    "print('Percentage of used RAM :',psutil.virtual_memory().percent,'%')\n",
    "\n",
    "train_scores_mean = cv_SVR.cv_results_[\"mean_train_score\"]\n",
    "test_scores_mean = cv_SVR.cv_results_[\"mean_test_score\"]\n",
    "print('The training score of the best estimator: ',train_scores_mean[np.argmax(test_scores_mean)])"
   ]
  },
  {
   "cell_type": "markdown",
   "metadata": {},
   "source": [
    "## Dataset Overview"
   ]
  },
  {
   "cell_type": "code",
   "execution_count": null,
   "metadata": {},
   "outputs": [],
   "source": [
    "'''\n",
    "CDF plot\n",
    "'''\n",
    "fig, ax = plt.subplots(figsize=(16,12))\n",
    "\n",
    "sorted_data = np.sort(Y_VoIP)\n",
    "linspaced = np.linspace(0, 1, len(Y_VoIP), endpoint=False)\n",
    "ax.plot(sorted_data, linspaced,'o-', rasterized=False)\n",
    "\n",
    "plt.xlabel('QoE')\n",
    "plt.ylabel('CDF')\n",
    "plt.xlim(0.8,5.2)\n",
    "# plt.title('CDF of QoE score')\n",
    "# plt.show()\n",
    "plt.tight_layout()\n",
    "plt.savefig('CDF of QoE in VoIP dataset.pdf',dpi=100, bbox_inches='tight')"
   ]
  },
  {
   "cell_type": "code",
   "execution_count": null,
   "metadata": {},
   "outputs": [],
   "source": [
    "def cdf_cal(datalist,labels):\n",
    "    fig, ax = plt.subplots(figsize=(16,12))\n",
    "    re=pd.DataFrame()\n",
    "    for i,data in enumerate(datalist):\n",
    "        sorted_data = np.sort(data)\n",
    "        linspaced = np.linspace(0, 1, len(data), endpoint=False)\n",
    "        print(np.interp(3, sorted_data,linspaced))\n",
    "        \n",
    "        ax.plot(sorted_data, linspaced, 'o-',label=labels[i],rasterized=False)\n",
    "#         ax.plot(3.0,np.interp(3, sorted_data,linspaced),'x')\n",
    "#         num_bins = np.unique(data[metric])\n",
    "#         counts1, bin_edges1 = np.histogram (data[metric], bins=num_bins)\n",
    "#         cdf1 = np.cumsum (counts1)\n",
    "#         plt.plot (bin_edges1[1:], cdf1/cdf1[-1], linewidth=2,label=labels[i],marker='o',markersize=8,linestyle='-')\n",
    "    plt.xlabel('QoE')\n",
    "    plt.ylabel('CDF')\n",
    "    plt.legend()\n",
    "    plt.xlim(0.8,5.2)\n",
    "#     plt.ylim((0,1))\n",
    "#     plt.xlim((1,5))\n",
    "    plt.tight_layout()\n",
    "    fig.savefig('CDF of QoE in VOD and VoIP.pdf', dpi=100, bbox_inches='tight')\n",
    "#     print(fig)"
   ]
  },
  {
   "cell_type": "code",
   "execution_count": null,
   "metadata": {
    "scrolled": true
   },
   "outputs": [],
   "source": [
    "datalist=[Y,Y_VoIP]\n",
    "labels=['VOD','VoIP']\n",
    "cdf_cal(datalist,labels)"
   ]
  },
  {
   "cell_type": "code",
   "execution_count": null,
   "metadata": {},
   "outputs": [],
   "source": [
    "for i,data in enumerate(datalist):\n",
    "    print(i,data.mean())\n",
    "    print(i,data.std())"
   ]
  },
  {
   "cell_type": "code",
   "execution_count": null,
   "metadata": {},
   "outputs": [],
   "source": [
    "# There are some NaN values. I will fill them with medians\n",
    "#df = df.fillna(df.median())"
   ]
  },
  {
   "cell_type": "code",
   "execution_count": null,
   "metadata": {},
   "outputs": [],
   "source": [
    "fig, ax = plt.subplots(figsize=(16,12))\n",
    "plt.xlabel('QoE(QoE)')\n",
    "mat['QoE'].plot.hist()\n",
    "\n",
    "plt.tight_layout()\n",
    "plt.savefig('Histogram of QoE score.pdf',dpi=100, bbox_inches='tight')\n",
    "# plt.show()"
   ]
  },
  {
   "cell_type": "code",
   "execution_count": null,
   "metadata": {},
   "outputs": [],
   "source": [
    "'''\n",
    "CDF plot\n",
    "'''\n",
    "fig, ax = plt.subplots(figsize=(16,12))\n",
    "\n",
    "sorted_data = np.sort(mat['QoE'])\n",
    "linspaced = np.linspace(0, 1, len(mat['QoE']), endpoint=False)\n",
    "ax.plot(sorted_data, linspaced, rasterized=False)\n",
    "\n",
    "plt.xlabel('QoE')\n",
    "plt.ylabel('CDF')\n",
    "# plt.title('CDF of QoE score')\n",
    "# plt.show()\n",
    "plt.tight_layout()\n",
    "plt.savefig('CDF of QoE score.pdf',dpi=100, bbox_inches='tight')"
   ]
  },
  {
   "cell_type": "markdown",
   "metadata": {},
   "source": [
    "## Feature Scaling"
   ]
  },
  {
   "cell_type": "code",
   "execution_count": null,
   "metadata": {},
   "outputs": [],
   "source": [
    "# stdscalX=StandardScaler().fit_transform(X)\n",
    "# print(StandardScaler().fit_transform(X))\n",
    "# print(Normalizer(norm='max').fit_transform(X))\n",
    "# print(MinMaxScaler().fit_transform(X))\n",
    "\n",
    "\n",
    "# escaling the range of feature Mean normalization min-max normalization\n",
    "X=((X-X.min())/(X.max()-X.min())).dropna(axis=1)\n",
    "# print((X-X.min())/(X.max()-X.min()))\n",
    "Y=mat['QoE']\n",
    "X.shape,Y.shape"
   ]
  },
  {
   "cell_type": "markdown",
   "metadata": {},
   "source": [
    "## Feature selection\n",
    "### Filtering method\n",
    "The filtering here is done using correlation matrix and it is most commonly done using Pearson correlation!"
   ]
  },
  {
   "cell_type": "code",
   "execution_count": null,
   "metadata": {},
   "outputs": [],
   "source": [
    "#correlation analysis\n",
    "\n",
    "# pearson\n",
    "p_corr=mat.corr().iloc[:,[0,1]].drop(mat.corr().index[[0,1]])\n",
    "\n",
    "# #kendall Tau\n",
    "# k_corr=mat.corr('kendall').iloc[:,[0,1]].drop(mat.corr().index[[0,1]])\n",
    "\n",
    "# #spearman\n",
    "# s_corr=mat.corr('spearman').iloc[:,[0,1]].drop(mat.corr().index[[0,1]])\n",
    "\n",
    "p_corr[p_corr.abs()>0.6].dropna()"
   ]
  },
  {
   "cell_type": "markdown",
   "metadata": {},
   "source": [
    "### Univariate Selection\n",
    "Univariate feature selection works by selecting the best features based on univariate ** statistical tests**. It can be seen as a preprocessing step to an estimator"
   ]
  },
  {
   "cell_type": "code",
   "execution_count": null,
   "metadata": {},
   "outputs": [],
   "source": [
    "s=pd.DataFrame()\n",
    "s['col']=X.columns\n",
    "s['val']=pd.DataFrame(mutual_info_regression(X,Y,random_state=37))\n",
    "s.sort_values(by=['val'],ascending=False)"
   ]
  },
  {
   "cell_type": "code",
   "execution_count": null,
   "metadata": {
    "scrolled": true
   },
   "outputs": [],
   "source": [
    "#SelectKBest: removes all but the  highest scoring features\n",
    "#take as input a scoring function that returns univariate scores\n",
    "#f_regression:F-value between label/feature for regression tasks.\n",
    "#mutual_info_regression:Mutual information for a continuous target.\n",
    "\n",
    "'''Feature ranking under different score function\n",
    "input:  X- feature matrix\n",
    "        Y- targets\n",
    "        k- the maximal avaliable feature number in X\n",
    "        plot-  plot or not\n",
    "output: sc- the scores of features\n",
    "'''\n",
    "def fea_ranking(X,Y,k,scorefunc=f_regression,plot=False):\n",
    "    \n",
    "    selector = SelectKBest(score_func=scorefunc, k=k).fit(X, Y)\n",
    "    newX = selector.transform(X)\n",
    "    scores = selector.scores_\n",
    "\n",
    "    if scorefunc==f_regression:\n",
    "        pvalues = selector.pvalues_\n",
    "        feacsv=pd.DataFrame({'f-values':scores,'p-values':pvalues},index=X.columns)\n",
    "        sc=pd.DataFrame(scores,index=X.columns,columns=['f-values'])\n",
    "        if plot==True:\n",
    "            feacsv.to_csv('feature scores(F-test) of stationary clients.csv')\n",
    "            sc.nlargest(k,'f-values').plot(kind='barh',figsize=(25,60))\n",
    "            plt.tight_layout()\n",
    "            plt.savefig('The ranking of features score by F-test in stationary data.pdf',dpi=100, bbox_inches='tight')\n",
    "\n",
    "            pv=pd.DataFrame(pvalues,index=X.columns,columns=['p-values'])\n",
    "            ax=pv.nlargest(k,'p-values').plot(kind='barh',figsize=(25,60))\n",
    "            for p in ax.patches:\n",
    "                ax.annotate(str(round(p.get_width(),10)), (p.get_x() + p.get_width(), p.get_y()), xytext=(5, 10), textcoords='offset points')\n",
    "            plt.tight_layout()\n",
    "            plt.savefig('The pvalues of features by F-test in stationary data.pdf',dpi=100, bbox_inches='tight')\n",
    "          \n",
    "        return sc\n",
    "    else:\n",
    "        sc=pd.DataFrame(scores,index=X.columns,columns=['mutual_information'])\n",
    "        if plot==True:\n",
    "            sc.to_csv('feature importance(SKB+mutual_info_regression).csv')\n",
    "            sc.nlargest(k,'mutual_information').plot(kind='barh',figsize=(25,40))\n",
    "            plt.tight_layout()\n",
    "            plt.savefig('The ranking of features score by SelectKBest+mutual_info_regression.pdf',dpi=100, bbox_inches='tight')\n",
    "\n",
    "        return sc\n"
   ]
  },
  {
   "cell_type": "code",
   "execution_count": null,
   "metadata": {},
   "outputs": [],
   "source": [
    "sc1=fea_ranking(X_moving,Y_moving,k=maxnum_feature_moving,scorefunc=f_regression,plot=True)\n",
    "# sc2=fea_ranking(X,Y,k=maxnum_feature,scorefunc=mutual_info_regression,plot=True)\n",
    "# sc1.sort_values(by=['f-values'],ascending=False).to_csv('test.csv')"
   ]
  },
  {
   "cell_type": "code",
   "execution_count": null,
   "metadata": {},
   "outputs": [],
   "source": [
    "# visualize the relationship between the features and the response using scatterplots\n",
    "sns.pairplot(mat, x_vars=['kurt_averageCqiUl','skew_averageCqiUl','mean_endToEndDelay','max_measuredRTT'], y_vars='OverallScore', height=7, aspect=0.7)\n",
    "\n",
    "plt.savefig('the relationship between some significant features and QoE using scatterplots.pdf')\n",
    "# plt.show()"
   ]
  },
  {
   "cell_type": "markdown",
   "metadata": {},
   "source": [
    "### exclude feature with a correlation >threshold to a feature already used"
   ]
  },
  {
   "cell_type": "code",
   "execution_count": null,
   "metadata": {},
   "outputs": [],
   "source": [
    "'''Feature selection based on 3 type of high correlation features exclusion(pearson,kendall,spearman)\n",
    "input:  X-  feature matrix/dataset\n",
    "        Y-  targets\n",
    "        max_features-  the maximal avaliable features in the dataset\n",
    "        scorefunc-  the score function for ranking the features(f_regression,mutual_info_regression)\n",
    "        threshold- float like 0.9,0.7..\n",
    "output: newX\n",
    "'''\n",
    "def feature_selection_3correlation_exclusion(X,Y,max_features,scorefunc,threshold):\n",
    "    # pearson\n",
    "    pcorr=X.corr().dropna(how='all',axis=0).dropna(how='all',axis=1)\n",
    "    #kendall Tau\n",
    "    kcorr=X.corr('kendall').dropna(how='all',axis=0).dropna(how='all',axis=1)\n",
    "    #spearman\n",
    "    scorr=X.corr('spearman').dropna(how='all',axis=0).dropna(how='all',axis=1)\n",
    "    if scorefunc=='f_regression':\n",
    "        fvalues=fea_ranking(X,Y,k=max_features,scorefunc=f_regression,plot=False)\n",
    "        ordered_feaSc=fvalues.sort_values(by='f-values',ascending=False)\n",
    "    elif scorefunc=='mutual_info_regression':\n",
    "        mivalues=fea_ranking(X,Y,k=max_features,scorefunc=mutual_info_regression,plot=False)\n",
    "        ordered_feaSc=mivalues.sort_values(by='mutual_information',ascending=False)     \n",
    "    selected_features=[ordered_feaSc.index[0]]\n",
    "    for i in range(1,maxnum_feature):\n",
    "        # if pearson >0.9 or kendall >0.9 or spearman >0.9, remove it\n",
    "        if (pcorr.loc[selected_features,ordered_feaSc.index[i]].abs()>threshold).any() or (kcorr.loc[selected_features,ordered_feaSc.index[i]].abs()>threshold).any() or (scorr.loc[selected_features,ordered_feaSc.index[i]].abs()>threshold).any():\n",
    "            pass\n",
    "        else:\n",
    "            selected_features.append(ordered_feaSc.index[i])\n",
    "            \n",
    "    newX=X.loc[:,selected_features]       \n",
    "    return newX"
   ]
  },
  {
   "cell_type": "code",
   "execution_count": null,
   "metadata": {},
   "outputs": [],
   "source": [
    "new1=feature_selection_3correlation_exclusion(X,Y,maxnum_feature,'f_regression',0.9)\n",
    "new2=feature_selection_3correlation_exclusion(X,Y,maxnum_feature,'mutual_info_regression',0.9)\n",
    "\n",
    "# pd.DataFrame(new1.columns).to_csv('Selected features based on 3 type of high correlation features exclusion and the ranking of fvalues.csv',index=False)\n",
    "# pd.DataFrame(new2.columns).to_csv('Selected features based on 3 type of high correlation features exclusion and the ranking of mutualinfo.csv',index=False)\n",
    "\n",
    "new1.shape,new2.shape"
   ]
  },
  {
   "cell_type": "code",
   "execution_count": null,
   "metadata": {},
   "outputs": [],
   "source": [
    "'''Feature selection base on only one high correlation features exclusion\n",
    "input:  X-  feature matrix/dataset\n",
    "        Y-  targets\n",
    "        feaScores-  feature scores from the function fea_ranking()\n",
    "        num_feature-  the number of selected features \n",
    "        threshold-  the threshold of correlation coefficient\n",
    "output: new_X-  the dataset after this process of feature selection\n",
    "'''\n",
    "def feature_selection_1correlation_exclusion(X,Y,max_features,scorefunc,threshold):\n",
    "    \n",
    "    # pearson\n",
    "    pcorr=X.corr().dropna(how='all',axis=0).dropna(how='all',axis=1)\n",
    "    \n",
    "    if scorefunc=='f_regression':\n",
    "        fvalues=fea_ranking(X,Y,k=max_features,scorefunc=f_regression,plot=False)\n",
    "        ordered_feaSc=fvalues.sort_values(by='f-values',ascending=False)\n",
    "    elif scorefunc=='mutual_info_regression':\n",
    "        mivalues=fea_ranking(X,Y,k=max_features,scorefunc=mutual_info_regression,plot=False)\n",
    "        ordered_feaSc=mivalues.sort_values(by='mutual_information',ascending=False)     \n",
    "    selected_features=[ordered_feaSc.index[0]]\n",
    "    for i in range(1,maxnum_feature):\n",
    "        # if pearson >0.7, remove it\n",
    "        if (pcorr.loc[selected_features,ordered_feaSc.index[i]].abs()>threshold).any():\n",
    "            pass\n",
    "        else:\n",
    "            selected_features.append(ordered_feaSc.index[i])\n",
    "            \n",
    "    newX=X.loc[:,selected_features]       \n",
    "    return newX\n"
   ]
  },
  {
   "cell_type": "code",
   "execution_count": null,
   "metadata": {},
   "outputs": [],
   "source": [
    "new3=feature_selection_1correlation_exclusion(X,Y,maxnum_feature,'f_regression',0.7)\n",
    "new4=feature_selection_1correlation_exclusion(X,Y,maxnum_feature,'mutual_info_regression',0.7)\n",
    "\n",
    "# pd.DataFrame(new3.columns).to_csv('Selected features based on only one type of high correlation features exclusion and the ranking of fvalues.csv',index=False)\n",
    "# pd.DataFrame(new4.columns).to_csv('Selected features based on only one type of high correlation features exclusion and the ranking of mutualinfo.csv',index=False)\n",
    "\n",
    "new3.shape,new4.shape"
   ]
  },
  {
   "cell_type": "code",
   "execution_count": null,
   "metadata": {},
   "outputs": [],
   "source": [
    "'''Feature selection base on only one high correlation features exclusion\n",
    "input:  X-  feature matrix/dataset\n",
    "        Y-  targets\n",
    "        feaScores-  feature scores from the function fea_ranking()\n",
    "        num_feature-  the number of selected features \n",
    "        threshold-  the threshold of correlation coefficient\n",
    "output: new_X-  the dataset after this process of feature selection\n",
    "'''\n",
    "def fea_selected_largeCorrExclued(X,Y,feaScores,num_feature,threshold):\n",
    "    correlation=X.corr()\n",
    "    correlation['feature_score']=feaScores\n",
    "    ordered_corr=correlation.sort_values(by='feature_score', ascending=False)\n",
    "    new_X=pd.DataFrame(X[ordered_corr.index[0]])\n",
    "    \n",
    "    #remove the rows which corrlation between the first feature is bigger than the threshold\n",
    "    for i in range(num_feature-1):\n",
    "        df_removed=ordered_corr[ordered_corr.index[0]][ordered_corr[ordered_corr.index[0]].abs()>threshold]\n",
    "        ordered_corr=ordered_corr.drop(df_removed.index)\n",
    "#         print(ordered_corr.index[0])\n",
    "        new_X=pd.concat([new_X.reset_index(drop=True),X[ordered_corr.index[0]].reset_index(drop=True)],axis=1)\n",
    "        new_X.index=X.index\n",
    "    return new_X\n"
   ]
  },
  {
   "cell_type": "code",
   "execution_count": null,
   "metadata": {},
   "outputs": [],
   "source": [
    "fvalues=fea_ranking(X,mat['QoE'],k=maxnum_feature,scorefunc=f_regression,plot=False)\n",
    "new5=fea_selected_largeCorrExclued(X,mat['QoE'],fvalues,20,0.7)\n",
    "\n",
    "mivalues=fea_ranking(X,mat['QoE'],k=maxnum_feature,scorefunc=mutual_info_regression,plot=False)\n",
    "new6=fea_selected_largeCorrExclued(X,mat['QoE'],mivalues,18,0.7)\n",
    "\n",
    "# pd.DataFrame(new_X.columns).to_csv('Selected Features which exclude high correlation (based on the ranking of fvalues).csv',index=False)\n",
    "# pd.DataFrame(new_X.columns).to_csv('Selected Features which exclude high correlation (based on the ranking of mutualinfo).csv',index=False)\n"
   ]
  },
  {
   "cell_type": "markdown",
   "metadata": {},
   "source": [
    "### PCA\n",
    " transform the dataset into a compressed form.\n",
    "1. Transform input features into principal components (PC)\n",
    "2. Use new PCs as new features.\n",
    "3. PCs are directions in data that maximize variance when you project/compress down onto them.\n",
    "4. The more variance of data along a PC, the higher that PC is ranked.\n",
    "5. Most variance, most information would be the first PC.\n",
    "6. Second-most variance would be the second PC.\n",
    "7. Max number of PCs = number of input features.\n",
    "\n",
    "\n",
    " Calculate the principal components 𝑊s on the training dataset and then utilize the training sample 𝑊 to reduce the dimensions of the testing dataset. (Then project the data onto the PCs of the training set.)"
   ]
  },
  {
   "cell_type": "code",
   "execution_count": null,
   "metadata": {},
   "outputs": [],
   "source": [
    "pipeline = Pipeline([('scaling', StandardScaler()), ('pca', PCA(n_components=20))])\n",
    "\n",
    "nX=pipeline.fit_transform(X)"
   ]
  },
  {
   "cell_type": "code",
   "execution_count": null,
   "metadata": {},
   "outputs": [],
   "source": [
    "xtrain, xtest, ytrain, ytest = train_test_split(nX, Y, test_size = 0.3,random_state=37)\n",
    "xtrain.shape,xtest.shape,ytrain.shape"
   ]
  },
  {
   "cell_type": "markdown",
   "metadata": {},
   "source": [
    "### Linear regression"
   ]
  },
  {
   "cell_type": "code",
   "execution_count": null,
   "metadata": {},
   "outputs": [],
   "source": [
    "def LR_analysis(X,Y):  \n",
    "#     xtrain, xtest, ytrain, ytest = train_test_split(X, Y, test_size = 0.3)\n",
    "    xtrain, xtest, ytrain, ytest = train_test_split(X, Y, test_size = 0.3,random_state=37)\n",
    "    \n",
    "    linearRegressor = LinearRegression()\n",
    "    linearRegressor.fit(xtrain,ytrain)\n",
    "    ypred=linearRegressor.predict(xtest)\n",
    "\n",
    "    #convert ypred to dataframe\n",
    "    ypredict=ypred.reshape(-1,1)\n",
    "    ypredict=pd.DataFrame(ypredict,columns=['ypred'])\n",
    "\n",
    "    #resultY contains ytest and ypred\n",
    "    resultY=pd.concat([ypredict.reset_index(drop=True),ytest.reset_index(drop=True)],axis=1)\n",
    "    resultY.columns=['ypred','ytest']\n",
    "    resultY.index=ytest.index\n",
    "    resultY=resultY.sort_values('ypred')\n",
    "\n",
    "    \n",
    "    return ypred,ytest,resultY"
   ]
  },
  {
   "cell_type": "code",
   "execution_count": null,
   "metadata": {},
   "outputs": [],
   "source": [
    "clf=LinearRegression()\n",
    "results_cv = cross_val_score(clf, X,Y, scoring='r2',cv=3,verbose=10,n_jobs=-1)  "
   ]
  },
  {
   "cell_type": "code",
   "execution_count": null,
   "metadata": {},
   "outputs": [],
   "source": [
    "results_cv"
   ]
  },
  {
   "cell_type": "markdown",
   "metadata": {},
   "source": [
    "### Support Vector Regression"
   ]
  },
  {
   "cell_type": "code",
   "execution_count": null,
   "metadata": {},
   "outputs": [],
   "source": [
    "'''\n",
    "    Support vector regression with default settings \n",
    "'''\n",
    "def SVR_analysis(X,Y):  \n",
    "#     xtrain, xtest, ytrain, ytest = train_test_split(X, Y, test_size = 0.3)\n",
    "    xtrain, xtest, ytrain, ytest = train_test_split(X, Y, test_size = 0.3,random_state=37)\n",
    "    \n",
    "    clf = SVR(gamma='scale')\n",
    "    clf.fit(xtrain,ytrain)\n",
    "    ypred=clf.predict(xtest)\n",
    "\n",
    "    #convert ypred to dataframe\n",
    "    ypredict=ypred.reshape(-1,1)\n",
    "    ypredict=pd.DataFrame(ypredict,columns=['ypred'])\n",
    "\n",
    "    #resultY contains ytest and ypred\n",
    "    resultY=pd.concat([ypredict.reset_index(drop=True),ytest.reset_index(drop=True)],axis=1)\n",
    "    resultY.columns=['ypred','ytest']\n",
    "    resultY.index=ytest.index\n",
    "    resultY=resultY.sort_values('ypred')\n",
    "    \n",
    "    return ypred,ytest,resultY"
   ]
  },
  {
   "cell_type": "code",
   "execution_count": null,
   "metadata": {},
   "outputs": [],
   "source": [
    "'''\n",
    "    Support vector regression with optimized settings \n",
    "    \n",
    "'''\n",
    "def SVR_analysis_opt(X,Y):  \n",
    "#     xtrain, xtest, ytrain, ytest = train_test_split(X, Y, test_size = 0.3)\n",
    "    xtrain, xtest, ytrain, ytest = train_test_split(X, Y, test_size = 0.3,random_state=37)\n",
    "    \n",
    "    clf = SVR(kernel='rbf',gamma=0.0019144819761699576,epsilon=0.01,C=150)\n",
    "    clf.fit(xtrain,ytrain)\n",
    "    ypred=clf.predict(xtest)\n",
    "\n",
    "    #convert ypred to dataframe\n",
    "    ypredict=ypred.reshape(-1,1)\n",
    "    ypredict=pd.DataFrame(ypredict,columns=['ypred'])\n",
    "\n",
    "    #resultY contains ytest and ypred\n",
    "    resultY=pd.concat([ypredict.reset_index(drop=True),ytest.reset_index(drop=True)],axis=1)\n",
    "    resultY.columns=['ypred','ytest']\n",
    "    resultY.index=ytest.index\n",
    "    resultY=resultY.sort_values('ypred')\n",
    "    \n",
    "    return ypred,ytest,resultY"
   ]
  },
  {
   "cell_type": "code",
   "execution_count": null,
   "metadata": {},
   "outputs": [],
   "source": [
    "%%time\n",
    "# params = [{'C':np.linspace(80,150, num=40), 'gamma':np.logspace(np.log10(0.0001), np.log10(0.01), num=30),'epsilon':[0.001,0.01,0.1,0.35], 'kernel': ['rbf']}]\n",
    "# sc={'R2':'r2','MSE':'neg_mean_squared_error'}\n",
    "params = [{'C':np.linspace(100,150, num=40), 'gamma':np.logspace(np.log10(0.0001), np.log10(0.01), num=40),'epsilon':[0.008,0.009,0.01,0.007,0.011,0.012], 'kernel': ['rbf']}]\n",
    "csvr=GridSearchCV(estimator=SVR(), param_grid=params,scoring='r2', n_jobs=-1, verbose=2,cv=5,refit='R2')\n",
    "feature_scaler = StandardScaler()  \n",
    "Xt = feature_scaler.fit_transform(X)  \n",
    "csvr.fit(Xt, Y)       "
   ]
  },
  {
   "cell_type": "code",
   "execution_count": null,
   "metadata": {},
   "outputs": [],
   "source": [
    "bparameters = csvr.best_params_  \n",
    "print(bparameters)  \n",
    "bresult = csvr.best_score_  \n",
    "print(bresult)  "
   ]
  },
  {
   "cell_type": "code",
   "execution_count": null,
   "metadata": {
    "scrolled": false
   },
   "outputs": [],
   "source": [
    "%%time\n",
    "'''\n",
    "Test of cross validation\n",
    "'''\n",
    "params = [{'C': [1, 10], 'kernel': ['linear']},\n",
    "          {'C': [1, 10, 100, 1000], 'gamma': [0.001, 0.0001], 'kernel': ['rbf']}]\n",
    "paras = {'kernel':['rbf','linear', 'poly'], 'C':np.logspace(np.log10(0.001), np.log10(200), num=10), 'gamma':np.logspace(np.log10(0.00001), np.log10(2), num=10)}\n",
    "cv_svr=GridSearchCV(estimator=SVR(), param_grid=paras,scoring='r2', n_jobs=-1, verbose=3,cv=5)\n",
    "feature_scaler = StandardScaler()  \n",
    "X_train = feature_scaler.fit_transform(X)  \n",
    "cv_svr.fit(X_train, Y) \n"
   ]
  },
  {
   "cell_type": "code",
   "execution_count": null,
   "metadata": {},
   "outputs": [],
   "source": [
    "best_parameters = cv_svr.best_params_  \n",
    "print(best_parameters)  \n",
    "best_result = cv_svr.best_score_  \n",
    "print(best_result)  "
   ]
  },
  {
   "cell_type": "markdown",
   "metadata": {},
   "source": [
    "### regression evaluation"
   ]
  },
  {
   "cell_type": "code",
   "execution_count": null,
   "metadata": {},
   "outputs": [],
   "source": [
    "print(explained_variance_score(ytest.values,ypred),\n",
    "# mean_absolute_error(ytest.values,ypred),\n",
    "mean_squared_error(ytest.values,ypred),\n",
    "# mean_squared_log_error(ytest.values,ypred),\n",
    "median_absolute_error(ytest.values,ypred),   #more robust than other evaluation metrics\n",
    "r2_score(ytest.values,ypred))"
   ]
  }
 ],
 "metadata": {
  "kernelspec": {
   "display_name": "Python 3",
   "language": "python",
   "name": "python3"
  },
  "language_info": {
   "codemirror_mode": {
    "name": "ipython",
    "version": 3
   },
   "file_extension": ".py",
   "mimetype": "text/x-python",
   "name": "python",
   "nbconvert_exporter": "python",
   "pygments_lexer": "ipython3",
   "version": "3.8.3"
  }
 },
 "nbformat": 4,
 "nbformat_minor": 2
}
