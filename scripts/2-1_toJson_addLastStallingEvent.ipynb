{
 "cells": [
  {
   "cell_type": "code",
   "execution_count": 18,
   "metadata": {},
   "outputs": [],
   "source": [
    "import numpy as np\n",
    "import pandas as pd\n",
    "import matplotlib\n",
    "%matplotlib inline\n",
    "from matplotlib import pyplot as plt\n",
    "from termcolor import colored\n",
    "\n",
    "import json\n",
    "import os\n",
    "import math\n",
    "import os.path"
   ]
  },
  {
   "cell_type": "code",
   "execution_count": 19,
   "metadata": {},
   "outputs": [
    {
     "name": "stdout",
     "output_type": "stream",
     "text": [
      "CPU times: user 23.4 s, sys: 5.32 s, total: 28.7 s\n",
      "Wall time: 37.3 s\n"
     ]
    }
   ],
   "source": [
    "%%time\n",
    "\n",
    "folder='data/toJson_output/'\n",
    "# file='swimMovementFP_ds0_nm_80_cli10_vec.json'\n",
    "path_list=os.listdir(folder)\n",
    "path_list.sort()\n",
    "\n",
    "VL=400 # total video duration\n",
    "seglen=5 #segment length\n",
    "\n",
    "clients_overSegs25=[] #clients‘ video with at least 25segments\n",
    "\n",
    "for file in path_list:\n",
    "    if file[-4:]=='json':\n",
    "        with open(folder+file) as f:\n",
    "            data_dict = json.load(f)\n",
    "            \n",
    "            playedSegs=len(data_dict['I13']['segments']) #played or downoaed segments\n",
    "            \n",
    "            #if th video played more than 25, record it\n",
    "            if playedSegs>=25:\n",
    "                clients_overSegs25.append(file[:-5])\n",
    "            \n",
    "            #stallingPostion is the played_time, i.e., the sum of all segments' durations, which could be downloaded and played back\n",
    "            stallingPostion=playedSegs*seglen #played time\n",
    "            #stallingDuration is the remaining_video_time, i.e., the sum of all segments' durations, which COULD NOT be downloaded\n",
    "            stallingDuration=VL-stallingPostion #remianing video duration\n",
    "            \n",
    "            \n",
    "            # if the video is fully played, just ignore them\n",
    "            if stallingDuration>0:\n",
    "                #add the atificial stalling event before adding the atificial segment\n",
    "                data_dict['I23']['stalling'].append([stallingPostion,stallingDuration])\n",
    "                \n",
    "                # Duplicate the last segment\n",
    "                data_dict['I13']['segments'].append(data_dict['I13']['segments'][-1].copy())\n",
    "                # set the previous last segment's duration with 5sec.\n",
    "                data_dict['I13']['segments'][-2]['duration']=seglen\n",
    "                # set the start time of duplicate on with 5 seconds higher\n",
    "                data_dict['I13']['segments'][-1]['start']=data_dict['I13']['segments'][-2]['start']+seglen      \n",
    "\n",
    "                \n",
    "                # wirte the dict back\n",
    "                with open(folder+file, 'w+') as outfile:\n",
    "                    json.dump(data_dict,outfile,sort_keys=False, indent=4, separators=(',', ':'))\n",
    "            else:\n",
    "                pass\n",
    "\n",
    "            \n",
    "dclients_overSegs25=pd.DataFrame(clients_overSegs25)\n",
    "dclients_overSegs25.to_csv('clients_overSegs25.csv',index=False)"
   ]
  },
  {
   "cell_type": "code",
   "execution_count": null,
   "metadata": {},
   "outputs": [],
   "source": []
  }
 ],
 "metadata": {
  "kernelspec": {
   "display_name": "Python 3",
   "language": "python",
   "name": "python3"
  },
  "language_info": {
   "codemirror_mode": {
    "name": "ipython",
    "version": 3
   },
   "file_extension": ".py",
   "mimetype": "text/x-python",
   "name": "python",
   "nbconvert_exporter": "python",
   "pygments_lexer": "ipython3",
   "version": "3.8.3"
  }
 },
 "nbformat": 4,
 "nbformat_minor": 4
}
